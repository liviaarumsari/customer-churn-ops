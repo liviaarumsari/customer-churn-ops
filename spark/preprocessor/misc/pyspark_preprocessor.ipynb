{
 "cells": [
  {
   "cell_type": "markdown",
   "metadata": {},
   "source": [
    "# Pyspark Preprocessor"
   ]
  },
  {
   "cell_type": "code",
   "execution_count": 22,
   "metadata": {},
   "outputs": [],
   "source": [
    "from pyspark.sql import SparkSession\n",
    "from pyspark.sql.types import *\n",
    "from pyspark.sql.functions import *\n",
    "\n",
    "# new session\n",
    "spark = SparkSession.builder.getOrCreate()"
   ]
  },
  {
   "cell_type": "markdown",
   "metadata": {},
   "source": [
    "## Load schema and data"
   ]
  },
  {
   "cell_type": "code",
   "execution_count": 23,
   "metadata": {},
   "outputs": [],
   "source": [
    "# schema for csv\n",
    "# customerID, gender, SeniorCitizen, Partner, Dependents, tenure, PhoneService, MultipleLines, InternetService, OnlineSecurity, OnlineBackup, DeviceProtection, TechSupport, StreamingTV, StreamingMovies, Contract, PaperlessBilling, PaymentMethod, MonthlyCharges, TotalCharges, Churn\n",
    "schema = StructType(\n",
    "    [\n",
    "        StructField(\"customerID\", StringType(), nullable=False),\n",
    "        StructField(\"gender\", StringType()),\n",
    "        StructField(\"SeniorCitizen\", IntegerType()),\n",
    "        StructField(\"Partner\", StringType()),\n",
    "        StructField(\"Dependents\", StringType()),\n",
    "        StructField(\"tenure\", IntegerType()),\n",
    "        StructField(\"PhoneService\", StringType()),\n",
    "        StructField(\"MultipleLines\", StringType()),\n",
    "        StructField(\"InternetService\", StringType()),\n",
    "        StructField(\"OnlineSecurity\", StringType()),\n",
    "        StructField(\"OnlineBackup\", StringType()),\n",
    "        StructField(\"DeviceProtection\", StringType()),\n",
    "        StructField(\"TechSupport\", StringType()),\n",
    "        StructField(\"StreamingTV\", StringType()),\n",
    "        StructField(\"StreamingMovies\", StringType()),\n",
    "        StructField(\"Contract\", StringType()),\n",
    "        StructField(\"PaperlessBilling\", StringType()),\n",
    "        StructField(\"PaymentMethod\", StringType()),\n",
    "        StructField(\"MonthlyCharges\", FloatType()),\n",
    "        StructField(\"TotalCharges\", FloatType()),\n",
    "        StructField(\"Churn\", StringType()),\n",
    "    ]\n",
    ")"
   ]
  },
  {
   "cell_type": "code",
   "execution_count": 24,
   "metadata": {},
   "outputs": [],
   "source": [
    "# read csv into schema\n",
    "\n",
    "df = (\n",
    "    spark.read.option(\"header\", True)\n",
    "    .schema(schema)\n",
    "    .csv(\"WA_Fn-UseC_-Telco-Customer-Churn.csv\")\n",
    ")\n",
    "\n",
    "# df.show()"
   ]
  },
  {
   "cell_type": "code",
   "execution_count": 25,
   "metadata": {},
   "outputs": [
    {
     "name": "stdout",
     "output_type": "stream",
     "text": [
      "root\n",
      " |-- customerID: string (nullable = true)\n",
      " |-- gender: string (nullable = true)\n",
      " |-- SeniorCitizen: integer (nullable = true)\n",
      " |-- Partner: string (nullable = true)\n",
      " |-- Dependents: string (nullable = true)\n",
      " |-- tenure: integer (nullable = true)\n",
      " |-- PhoneService: string (nullable = true)\n",
      " |-- MultipleLines: string (nullable = true)\n",
      " |-- InternetService: string (nullable = true)\n",
      " |-- OnlineSecurity: string (nullable = true)\n",
      " |-- OnlineBackup: string (nullable = true)\n",
      " |-- DeviceProtection: string (nullable = true)\n",
      " |-- TechSupport: string (nullable = true)\n",
      " |-- StreamingTV: string (nullable = true)\n",
      " |-- StreamingMovies: string (nullable = true)\n",
      " |-- Contract: string (nullable = true)\n",
      " |-- PaperlessBilling: string (nullable = true)\n",
      " |-- PaymentMethod: string (nullable = true)\n",
      " |-- MonthlyCharges: float (nullable = true)\n",
      " |-- TotalCharges: float (nullable = true)\n",
      " |-- Churn: string (nullable = true)\n",
      "\n"
     ]
    },
    {
     "data": {
      "text/plain": [
       "7043"
      ]
     },
     "execution_count": 25,
     "metadata": {},
     "output_type": "execute_result"
    }
   ],
   "source": [
    "df.printSchema()\n",
    "\n",
    "df.count()"
   ]
  },
  {
   "cell_type": "markdown",
   "metadata": {},
   "source": [
    "## Description\n",
    "- customerID: string\n",
    "- gender: Male/Female\n",
    "- SeniorCitizen: 0/1\n",
    "- Partner: Yes/No\n",
    "- Dependents: Yes/No\n",
    "- tenure: integer\n",
    "- PhoneService: Yes/No\n",
    "    - MultipleLines: Yes/No/No phone service\n",
    "- InternetService: string\n",
    "    - OnlineSecurity: Yes/No/No internet service\n",
    "    - OnlineBackup: Yes/No/No internet service\n",
    "    - DeviceProtection: Yes/No/No internet service\n",
    "    - TechSupport: Yes/No/No internet service\n",
    "    - StreamingTV: Yes/No/No internet service\n",
    "    - StreamingMovies: Yes/No/No internet service\n",
    "- Contract: string\n",
    "- PaperlessBilling: Yes/No\n",
    "- PaymentMethod: string\n",
    "- MonthlyCharges: float\n",
    "- TotalCharges: float\n",
    "- Churn: Yes/No\n"
   ]
  },
  {
   "cell_type": "markdown",
   "metadata": {},
   "source": [
    "## Cleaning\n",
    "- check for typos\n",
    "- rename columns\n",
    "- drop duplicates\n",
    "- remove null\n",
    "- check consistency for PhoneService or InternetService related columns\n",
    "- check consistency for SeniorCitizen\n",
    "- fill missing values for PhoneService or InternetService related columns\n",
    "- delete invalid values (NaN or negatives)\n",
    "- one-hot encoding for string valued columns\n",
    "- reformat for boolean columns"
   ]
  },
  {
   "cell_type": "markdown",
   "metadata": {},
   "source": [
    "### Rename columns"
   ]
  },
  {
   "cell_type": "code",
   "execution_count": 26,
   "metadata": {},
   "outputs": [
    {
     "name": "stdout",
     "output_type": "stream",
     "text": [
      "+----------+------+-------------+-------+----------+------+------------+----------------+---------------+-------------------+-------------------+-------------------+-------------------+-------------------+-------------------+--------------+----------------+--------------------+--------------+------------+-----+\n",
      "|CustomerID|Gender|SeniorCitizen|Partner|Dependents|Tenure|PhoneService|   MultipleLines|InternetService|     OnlineSecurity|       OnlineBackup|   DeviceProtection|        TechSupport|        StreamingTV|    StreamingMovies|      Contract|PaperlessBilling|       PaymentMethod|MonthlyCharges|TotalCharges|Churn|\n",
      "+----------+------+-------------+-------+----------+------+------------+----------------+---------------+-------------------+-------------------+-------------------+-------------------+-------------------+-------------------+--------------+----------------+--------------------+--------------+------------+-----+\n",
      "|7590-VHVEG|Female|            0|    Yes|        No|     1|          No|No phone service|            DSL|                 No|                Yes|                 No|                 No|                 No|                 No|Month-to-month|             Yes|    Electronic check|         29.85|       29.85|   No|\n",
      "|5575-GNVDE|  Male|            0|     No|        No|    34|         Yes|              No|            DSL|                Yes|                 No|                Yes|                 No|                 No|                 No|      One year|              No|        Mailed check|         56.95|      1889.5|   No|\n",
      "|3668-QPYBK|  Male|            0|     No|        No|     2|         Yes|              No|            DSL|                Yes|                Yes|                 No|                 No|                 No|                 No|Month-to-month|             Yes|        Mailed check|         53.85|      108.15|  Yes|\n",
      "|7795-CFOCW|  Male|            0|     No|        No|    45|          No|No phone service|            DSL|                Yes|                 No|                Yes|                Yes|                 No|                 No|      One year|              No|Bank transfer (au...|          42.3|     1840.75|   No|\n",
      "|9237-HQITU|Female|            0|     No|        No|     2|         Yes|              No|    Fiber optic|                 No|                 No|                 No|                 No|                 No|                 No|Month-to-month|             Yes|    Electronic check|          70.7|      151.65|  Yes|\n",
      "|9305-CDSKC|Female|            0|     No|        No|     8|         Yes|             Yes|    Fiber optic|                 No|                 No|                Yes|                 No|                Yes|                Yes|Month-to-month|             Yes|    Electronic check|         99.65|       820.5|  Yes|\n",
      "|1452-KIOVK|  Male|            0|     No|       Yes|    22|         Yes|             Yes|    Fiber optic|                 No|                Yes|                 No|                 No|                Yes|                 No|Month-to-month|             Yes|Credit card (auto...|          89.1|      1949.4|   No|\n",
      "|6713-OKOMC|Female|            0|     No|        No|    10|          No|No phone service|            DSL|                Yes|                 No|                 No|                 No|                 No|                 No|Month-to-month|              No|        Mailed check|         29.75|       301.9|   No|\n",
      "|7892-POOKP|Female|            0|    Yes|        No|    28|         Yes|             Yes|    Fiber optic|                 No|                 No|                Yes|                Yes|                Yes|                Yes|Month-to-month|             Yes|    Electronic check|         104.8|     3046.05|  Yes|\n",
      "|6388-TABGU|  Male|            0|     No|       Yes|    62|         Yes|              No|            DSL|                Yes|                Yes|                 No|                 No|                 No|                 No|      One year|              No|Bank transfer (au...|         56.15|     3487.95|   No|\n",
      "|9763-GRSKD|  Male|            0|    Yes|       Yes|    13|         Yes|              No|            DSL|                Yes|                 No|                 No|                 No|                 No|                 No|Month-to-month|             Yes|        Mailed check|         49.95|      587.45|   No|\n",
      "|7469-LKBCI|  Male|            0|     No|        No|    16|         Yes|              No|             No|No internet service|No internet service|No internet service|No internet service|No internet service|No internet service|      Two year|              No|Credit card (auto...|         18.95|       326.8|   No|\n",
      "|8091-TTVAX|  Male|            0|    Yes|        No|    58|         Yes|             Yes|    Fiber optic|                 No|                 No|                Yes|                 No|                Yes|                Yes|      One year|              No|Credit card (auto...|        100.35|      5681.1|   No|\n",
      "|0280-XJGEX|  Male|            0|     No|        No|    49|         Yes|             Yes|    Fiber optic|                 No|                Yes|                Yes|                 No|                Yes|                Yes|Month-to-month|             Yes|Bank transfer (au...|         103.7|      5036.3|  Yes|\n",
      "|5129-JLPIS|  Male|            0|     No|        No|    25|         Yes|              No|    Fiber optic|                Yes|                 No|                Yes|                Yes|                Yes|                Yes|Month-to-month|             Yes|    Electronic check|         105.5|     2686.05|   No|\n",
      "|3655-SNQYZ|Female|            0|    Yes|       Yes|    69|         Yes|             Yes|    Fiber optic|                Yes|                Yes|                Yes|                Yes|                Yes|                Yes|      Two year|              No|Credit card (auto...|        113.25|     7895.15|   No|\n",
      "|8191-XWSZG|Female|            0|     No|        No|    52|         Yes|              No|             No|No internet service|No internet service|No internet service|No internet service|No internet service|No internet service|      One year|              No|        Mailed check|         20.65|     1022.95|   No|\n",
      "|9959-WOFKT|  Male|            0|     No|       Yes|    71|         Yes|             Yes|    Fiber optic|                Yes|                 No|                Yes|                 No|                Yes|                Yes|      Two year|              No|Bank transfer (au...|         106.7|     7382.25|   No|\n",
      "|4190-MFLUW|Female|            0|    Yes|       Yes|    10|         Yes|              No|            DSL|                 No|                 No|                Yes|                Yes|                 No|                 No|Month-to-month|              No|Credit card (auto...|          55.2|      528.35|  Yes|\n",
      "|4183-MYFRB|Female|            0|     No|        No|    21|         Yes|              No|    Fiber optic|                 No|                Yes|                Yes|                 No|                 No|                Yes|Month-to-month|             Yes|    Electronic check|         90.05|      1862.9|   No|\n",
      "+----------+------+-------------+-------+----------+------+------------+----------------+---------------+-------------------+-------------------+-------------------+-------------------+-------------------+-------------------+--------------+----------------+--------------------+--------------+------------+-----+\n",
      "only showing top 20 rows\n",
      "\n"
     ]
    }
   ],
   "source": [
    "df = df.withColumnsRenamed(\n",
    "    {\"customerID\": \"CustomerID\", \"gender\": \"Gender\", \"tenure\": \"Tenure\"}\n",
    ")\n",
    "\n",
    "df.show()"
   ]
  },
  {
   "cell_type": "markdown",
   "metadata": {},
   "source": [
    "### Check for typos"
   ]
  },
  {
   "cell_type": "code",
   "execution_count": null,
   "metadata": {},
   "outputs": [
    {
     "ename": "Py4JJavaError",
     "evalue": "An error occurred while calling o561.showString.\n: org.apache.spark.SparkException: Job aborted due to stage failure: Task 0 in stage 41.0 failed 1 times, most recent failure: Lost task 0.0 in stage 41.0 (TID 25) (latitude executor driver): org.apache.spark.SparkException: Python worker failed to connect back.\r\n\tat org.apache.spark.api.python.PythonWorkerFactory.createSimpleWorker(PythonWorkerFactory.scala:203)\r\n\tat org.apache.spark.api.python.PythonWorkerFactory.create(PythonWorkerFactory.scala:109)\r\n\tat org.apache.spark.SparkEnv.createPythonWorker(SparkEnv.scala:124)\r\n\tat org.apache.spark.api.python.BasePythonRunner.compute(PythonRunner.scala:174)\r\n\tat org.apache.spark.sql.execution.python.BatchEvalPythonExec.evaluate(BatchEvalPythonExec.scala:54)\r\n\tat org.apache.spark.sql.execution.python.EvalPythonExec.$anonfun$doExecute$2(EvalPythonExec.scala:131)\r\n\tat org.apache.spark.rdd.RDD.$anonfun$mapPartitions$2(RDD.scala:858)\r\n\tat org.apache.spark.rdd.RDD.$anonfun$mapPartitions$2$adapted(RDD.scala:858)\r\n\tat org.apache.spark.rdd.MapPartitionsRDD.compute(MapPartitionsRDD.scala:52)\r\n\tat org.apache.spark.rdd.RDD.computeOrReadCheckpoint(RDD.scala:367)\r\n\tat org.apache.spark.rdd.RDD.iterator(RDD.scala:331)\r\n\tat org.apache.spark.rdd.MapPartitionsRDD.compute(MapPartitionsRDD.scala:52)\r\n\tat org.apache.spark.rdd.RDD.computeOrReadCheckpoint(RDD.scala:367)\r\n\tat org.apache.spark.rdd.RDD.iterator(RDD.scala:331)\r\n\tat org.apache.spark.rdd.MapPartitionsRDD.compute(MapPartitionsRDD.scala:52)\r\n\tat org.apache.spark.rdd.RDD.computeOrReadCheckpoint(RDD.scala:367)\r\n\tat org.apache.spark.rdd.RDD.iterator(RDD.scala:331)\r\n\tat org.apache.spark.scheduler.ResultTask.runTask(ResultTask.scala:93)\r\n\tat org.apache.spark.TaskContext.runTaskWithListeners(TaskContext.scala:166)\r\n\tat org.apache.spark.scheduler.Task.run(Task.scala:141)\r\n\tat org.apache.spark.executor.Executor$TaskRunner.$anonfun$run$4(Executor.scala:620)\r\n\tat org.apache.spark.util.SparkErrorUtils.tryWithSafeFinally(SparkErrorUtils.scala:64)\r\n\tat org.apache.spark.util.SparkErrorUtils.tryWithSafeFinally$(SparkErrorUtils.scala:61)\r\n\tat org.apache.spark.util.Utils$.tryWithSafeFinally(Utils.scala:94)\r\n\tat org.apache.spark.executor.Executor$TaskRunner.run(Executor.scala:623)\r\n\tat java.base/java.util.concurrent.ThreadPoolExecutor.runWorker(ThreadPoolExecutor.java:1144)\r\n\tat java.base/java.util.concurrent.ThreadPoolExecutor$Worker.run(ThreadPoolExecutor.java:642)\r\n\tat java.base/java.lang.Thread.run(Thread.java:1583)\r\nCaused by: java.net.SocketTimeoutException: Accept timed out\r\n\tat java.base/sun.nio.ch.NioSocketImpl.timedAccept(NioSocketImpl.java:701)\r\n\tat java.base/sun.nio.ch.NioSocketImpl.accept(NioSocketImpl.java:745)\r\n\tat java.base/java.net.ServerSocket.implAccept(ServerSocket.java:698)\r\n\tat java.base/java.net.ServerSocket.platformImplAccept(ServerSocket.java:663)\r\n\tat java.base/java.net.ServerSocket.implAccept(ServerSocket.java:639)\r\n\tat java.base/java.net.ServerSocket.implAccept(ServerSocket.java:585)\r\n\tat java.base/java.net.ServerSocket.accept(ServerSocket.java:543)\r\n\tat org.apache.spark.api.python.PythonWorkerFactory.createSimpleWorker(PythonWorkerFactory.scala:190)\r\n\t... 27 more\r\n\nDriver stacktrace:\r\n\tat org.apache.spark.scheduler.DAGScheduler.failJobAndIndependentStages(DAGScheduler.scala:2856)\r\n\tat org.apache.spark.scheduler.DAGScheduler.$anonfun$abortStage$2(DAGScheduler.scala:2792)\r\n\tat org.apache.spark.scheduler.DAGScheduler.$anonfun$abortStage$2$adapted(DAGScheduler.scala:2791)\r\n\tat scala.collection.mutable.ResizableArray.foreach(ResizableArray.scala:62)\r\n\tat scala.collection.mutable.ResizableArray.foreach$(ResizableArray.scala:55)\r\n\tat scala.collection.mutable.ArrayBuffer.foreach(ArrayBuffer.scala:49)\r\n\tat org.apache.spark.scheduler.DAGScheduler.abortStage(DAGScheduler.scala:2791)\r\n\tat org.apache.spark.scheduler.DAGScheduler.$anonfun$handleTaskSetFailed$1(DAGScheduler.scala:1247)\r\n\tat org.apache.spark.scheduler.DAGScheduler.$anonfun$handleTaskSetFailed$1$adapted(DAGScheduler.scala:1247)\r\n\tat scala.Option.foreach(Option.scala:407)\r\n\tat org.apache.spark.scheduler.DAGScheduler.handleTaskSetFailed(DAGScheduler.scala:1247)\r\n\tat org.apache.spark.scheduler.DAGSchedulerEventProcessLoop.doOnReceive(DAGScheduler.scala:3060)\r\n\tat org.apache.spark.scheduler.DAGSchedulerEventProcessLoop.onReceive(DAGScheduler.scala:2994)\r\n\tat org.apache.spark.scheduler.DAGSchedulerEventProcessLoop.onReceive(DAGScheduler.scala:2983)\r\n\tat org.apache.spark.util.EventLoop$$anon$1.run(EventLoop.scala:49)\r\n\tat org.apache.spark.scheduler.DAGScheduler.runJob(DAGScheduler.scala:989)\r\n\tat org.apache.spark.SparkContext.runJob(SparkContext.scala:2393)\r\n\tat org.apache.spark.SparkContext.runJob(SparkContext.scala:2414)\r\n\tat org.apache.spark.SparkContext.runJob(SparkContext.scala:2433)\r\n\tat org.apache.spark.sql.execution.SparkPlan.executeTake(SparkPlan.scala:530)\r\n\tat org.apache.spark.sql.execution.SparkPlan.executeTake(SparkPlan.scala:483)\r\n\tat org.apache.spark.sql.execution.CollectLimitExec.executeCollect(limit.scala:61)\r\n\tat org.apache.spark.sql.Dataset.collectFromPlan(Dataset.scala:4333)\r\n\tat org.apache.spark.sql.Dataset.$anonfun$head$1(Dataset.scala:3316)\r\n\tat org.apache.spark.sql.Dataset.$anonfun$withAction$2(Dataset.scala:4323)\r\n\tat org.apache.spark.sql.execution.QueryExecution$.withInternalError(QueryExecution.scala:546)\r\n\tat org.apache.spark.sql.Dataset.$anonfun$withAction$1(Dataset.scala:4321)\r\n\tat org.apache.spark.sql.execution.SQLExecution$.$anonfun$withNewExecutionId$6(SQLExecution.scala:125)\r\n\tat org.apache.spark.sql.execution.SQLExecution$.withSQLConfPropagated(SQLExecution.scala:201)\r\n\tat org.apache.spark.sql.execution.SQLExecution$.$anonfun$withNewExecutionId$1(SQLExecution.scala:108)\r\n\tat org.apache.spark.sql.SparkSession.withActive(SparkSession.scala:900)\r\n\tat org.apache.spark.sql.execution.SQLExecution$.withNewExecutionId(SQLExecution.scala:66)\r\n\tat org.apache.spark.sql.Dataset.withAction(Dataset.scala:4321)\r\n\tat org.apache.spark.sql.Dataset.head(Dataset.scala:3316)\r\n\tat org.apache.spark.sql.Dataset.take(Dataset.scala:3539)\r\n\tat org.apache.spark.sql.Dataset.getRows(Dataset.scala:280)\r\n\tat org.apache.spark.sql.Dataset.showString(Dataset.scala:315)\r\n\tat java.base/jdk.internal.reflect.NativeMethodAccessorImpl.invoke0(Native Method)\r\n\tat java.base/jdk.internal.reflect.NativeMethodAccessorImpl.invoke(NativeMethodAccessorImpl.java:75)\r\n\tat java.base/jdk.internal.reflect.DelegatingMethodAccessorImpl.invoke(DelegatingMethodAccessorImpl.java:52)\r\n\tat java.base/java.lang.reflect.Method.invoke(Method.java:580)\r\n\tat py4j.reflection.MethodInvoker.invoke(MethodInvoker.java:244)\r\n\tat py4j.reflection.ReflectionEngine.invoke(ReflectionEngine.java:374)\r\n\tat py4j.Gateway.invoke(Gateway.java:282)\r\n\tat py4j.commands.AbstractCommand.invokeMethod(AbstractCommand.java:132)\r\n\tat py4j.commands.CallCommand.execute(CallCommand.java:79)\r\n\tat py4j.ClientServerConnection.waitForCommands(ClientServerConnection.java:182)\r\n\tat py4j.ClientServerConnection.run(ClientServerConnection.java:106)\r\n\tat java.base/java.lang.Thread.run(Thread.java:1583)\r\nCaused by: org.apache.spark.SparkException: Python worker failed to connect back.\r\n\tat org.apache.spark.api.python.PythonWorkerFactory.createSimpleWorker(PythonWorkerFactory.scala:203)\r\n\tat org.apache.spark.api.python.PythonWorkerFactory.create(PythonWorkerFactory.scala:109)\r\n\tat org.apache.spark.SparkEnv.createPythonWorker(SparkEnv.scala:124)\r\n\tat org.apache.spark.api.python.BasePythonRunner.compute(PythonRunner.scala:174)\r\n\tat org.apache.spark.sql.execution.python.BatchEvalPythonExec.evaluate(BatchEvalPythonExec.scala:54)\r\n\tat org.apache.spark.sql.execution.python.EvalPythonExec.$anonfun$doExecute$2(EvalPythonExec.scala:131)\r\n\tat org.apache.spark.rdd.RDD.$anonfun$mapPartitions$2(RDD.scala:858)\r\n\tat org.apache.spark.rdd.RDD.$anonfun$mapPartitions$2$adapted(RDD.scala:858)\r\n\tat org.apache.spark.rdd.MapPartitionsRDD.compute(MapPartitionsRDD.scala:52)\r\n\tat org.apache.spark.rdd.RDD.computeOrReadCheckpoint(RDD.scala:367)\r\n\tat org.apache.spark.rdd.RDD.iterator(RDD.scala:331)\r\n\tat org.apache.spark.rdd.MapPartitionsRDD.compute(MapPartitionsRDD.scala:52)\r\n\tat org.apache.spark.rdd.RDD.computeOrReadCheckpoint(RDD.scala:367)\r\n\tat org.apache.spark.rdd.RDD.iterator(RDD.scala:331)\r\n\tat org.apache.spark.rdd.MapPartitionsRDD.compute(MapPartitionsRDD.scala:52)\r\n\tat org.apache.spark.rdd.RDD.computeOrReadCheckpoint(RDD.scala:367)\r\n\tat org.apache.spark.rdd.RDD.iterator(RDD.scala:331)\r\n\tat org.apache.spark.scheduler.ResultTask.runTask(ResultTask.scala:93)\r\n\tat org.apache.spark.TaskContext.runTaskWithListeners(TaskContext.scala:166)\r\n\tat org.apache.spark.scheduler.Task.run(Task.scala:141)\r\n\tat org.apache.spark.executor.Executor$TaskRunner.$anonfun$run$4(Executor.scala:620)\r\n\tat org.apache.spark.util.SparkErrorUtils.tryWithSafeFinally(SparkErrorUtils.scala:64)\r\n\tat org.apache.spark.util.SparkErrorUtils.tryWithSafeFinally$(SparkErrorUtils.scala:61)\r\n\tat org.apache.spark.util.Utils$.tryWithSafeFinally(Utils.scala:94)\r\n\tat org.apache.spark.executor.Executor$TaskRunner.run(Executor.scala:623)\r\n\tat java.base/java.util.concurrent.ThreadPoolExecutor.runWorker(ThreadPoolExecutor.java:1144)\r\n\tat java.base/java.util.concurrent.ThreadPoolExecutor$Worker.run(ThreadPoolExecutor.java:642)\r\n\t... 1 more\r\nCaused by: java.net.SocketTimeoutException: Accept timed out\r\n\tat java.base/sun.nio.ch.NioSocketImpl.timedAccept(NioSocketImpl.java:701)\r\n\tat java.base/sun.nio.ch.NioSocketImpl.accept(NioSocketImpl.java:745)\r\n\tat java.base/java.net.ServerSocket.implAccept(ServerSocket.java:698)\r\n\tat java.base/java.net.ServerSocket.platformImplAccept(ServerSocket.java:663)\r\n\tat java.base/java.net.ServerSocket.implAccept(ServerSocket.java:639)\r\n\tat java.base/java.net.ServerSocket.implAccept(ServerSocket.java:585)\r\n\tat java.base/java.net.ServerSocket.accept(ServerSocket.java:543)\r\n\tat org.apache.spark.api.python.PythonWorkerFactory.createSimpleWorker(PythonWorkerFactory.scala:190)\r\n\t... 27 more\r\n",
     "output_type": "error",
     "traceback": [
      "\u001b[1;31m---------------------------------------------------------------------------\u001b[0m",
      "\u001b[1;31mPy4JJavaError\u001b[0m                             Traceback (most recent call last)",
      "Cell \u001b[1;32mIn[27], line 74\u001b[0m\n\u001b[0;32m     56\u001b[0m \u001b[38;5;66;03m# fix detected typos, or set null if not considered typo\u001b[39;00m\n\u001b[0;32m     57\u001b[0m df \u001b[38;5;241m=\u001b[39m df\u001b[38;5;241m.\u001b[39mwithColumns(\n\u001b[0;32m     58\u001b[0m     {\n\u001b[0;32m     59\u001b[0m         \u001b[38;5;124m\"\u001b[39m\u001b[38;5;124mGender\u001b[39m\u001b[38;5;124m\"\u001b[39m: udf_match_gender(col(\u001b[38;5;124m\"\u001b[39m\u001b[38;5;124mGender\u001b[39m\u001b[38;5;124m\"\u001b[39m)),\n\u001b[1;32m   (...)\u001b[0m\n\u001b[0;32m     72\u001b[0m     }\n\u001b[0;32m     73\u001b[0m )\n\u001b[1;32m---> 74\u001b[0m \u001b[43mdf\u001b[49m\u001b[38;5;241;43m.\u001b[39;49m\u001b[43mshow\u001b[49m\u001b[43m(\u001b[49m\u001b[43m)\u001b[49m\n",
      "File \u001b[1;32mc:\\Python312\\Lib\\site-packages\\pyspark\\sql\\dataframe.py:947\u001b[0m, in \u001b[0;36mDataFrame.show\u001b[1;34m(self, n, truncate, vertical)\u001b[0m\n\u001b[0;32m    887\u001b[0m \u001b[38;5;28;01mdef\u001b[39;00m \u001b[38;5;21mshow\u001b[39m(\u001b[38;5;28mself\u001b[39m, n: \u001b[38;5;28mint\u001b[39m \u001b[38;5;241m=\u001b[39m \u001b[38;5;241m20\u001b[39m, truncate: Union[\u001b[38;5;28mbool\u001b[39m, \u001b[38;5;28mint\u001b[39m] \u001b[38;5;241m=\u001b[39m \u001b[38;5;28;01mTrue\u001b[39;00m, vertical: \u001b[38;5;28mbool\u001b[39m \u001b[38;5;241m=\u001b[39m \u001b[38;5;28;01mFalse\u001b[39;00m) \u001b[38;5;241m-\u001b[39m\u001b[38;5;241m>\u001b[39m \u001b[38;5;28;01mNone\u001b[39;00m:\n\u001b[0;32m    888\u001b[0m \u001b[38;5;250m    \u001b[39m\u001b[38;5;124;03m\"\"\"Prints the first ``n`` rows to the console.\u001b[39;00m\n\u001b[0;32m    889\u001b[0m \n\u001b[0;32m    890\u001b[0m \u001b[38;5;124;03m    .. versionadded:: 1.3.0\u001b[39;00m\n\u001b[1;32m   (...)\u001b[0m\n\u001b[0;32m    945\u001b[0m \u001b[38;5;124;03m    name | Bob\u001b[39;00m\n\u001b[0;32m    946\u001b[0m \u001b[38;5;124;03m    \"\"\"\u001b[39;00m\n\u001b[1;32m--> 947\u001b[0m     \u001b[38;5;28mprint\u001b[39m(\u001b[38;5;28;43mself\u001b[39;49m\u001b[38;5;241;43m.\u001b[39;49m\u001b[43m_show_string\u001b[49m\u001b[43m(\u001b[49m\u001b[43mn\u001b[49m\u001b[43m,\u001b[49m\u001b[43m \u001b[49m\u001b[43mtruncate\u001b[49m\u001b[43m,\u001b[49m\u001b[43m \u001b[49m\u001b[43mvertical\u001b[49m\u001b[43m)\u001b[49m)\n",
      "File \u001b[1;32mc:\\Python312\\Lib\\site-packages\\pyspark\\sql\\dataframe.py:965\u001b[0m, in \u001b[0;36mDataFrame._show_string\u001b[1;34m(self, n, truncate, vertical)\u001b[0m\n\u001b[0;32m    959\u001b[0m     \u001b[38;5;28;01mraise\u001b[39;00m PySparkTypeError(\n\u001b[0;32m    960\u001b[0m         error_class\u001b[38;5;241m=\u001b[39m\u001b[38;5;124m\"\u001b[39m\u001b[38;5;124mNOT_BOOL\u001b[39m\u001b[38;5;124m\"\u001b[39m,\n\u001b[0;32m    961\u001b[0m         message_parameters\u001b[38;5;241m=\u001b[39m{\u001b[38;5;124m\"\u001b[39m\u001b[38;5;124marg_name\u001b[39m\u001b[38;5;124m\"\u001b[39m: \u001b[38;5;124m\"\u001b[39m\u001b[38;5;124mvertical\u001b[39m\u001b[38;5;124m\"\u001b[39m, \u001b[38;5;124m\"\u001b[39m\u001b[38;5;124marg_type\u001b[39m\u001b[38;5;124m\"\u001b[39m: \u001b[38;5;28mtype\u001b[39m(vertical)\u001b[38;5;241m.\u001b[39m\u001b[38;5;18m__name__\u001b[39m},\n\u001b[0;32m    962\u001b[0m     )\n\u001b[0;32m    964\u001b[0m \u001b[38;5;28;01mif\u001b[39;00m \u001b[38;5;28misinstance\u001b[39m(truncate, \u001b[38;5;28mbool\u001b[39m) \u001b[38;5;129;01mand\u001b[39;00m truncate:\n\u001b[1;32m--> 965\u001b[0m     \u001b[38;5;28;01mreturn\u001b[39;00m \u001b[38;5;28;43mself\u001b[39;49m\u001b[38;5;241;43m.\u001b[39;49m\u001b[43m_jdf\u001b[49m\u001b[38;5;241;43m.\u001b[39;49m\u001b[43mshowString\u001b[49m\u001b[43m(\u001b[49m\u001b[43mn\u001b[49m\u001b[43m,\u001b[49m\u001b[43m \u001b[49m\u001b[38;5;241;43m20\u001b[39;49m\u001b[43m,\u001b[49m\u001b[43m \u001b[49m\u001b[43mvertical\u001b[49m\u001b[43m)\u001b[49m\n\u001b[0;32m    966\u001b[0m \u001b[38;5;28;01melse\u001b[39;00m:\n\u001b[0;32m    967\u001b[0m     \u001b[38;5;28;01mtry\u001b[39;00m:\n",
      "File \u001b[1;32mc:\\Python312\\Lib\\site-packages\\py4j\\java_gateway.py:1322\u001b[0m, in \u001b[0;36mJavaMember.__call__\u001b[1;34m(self, *args)\u001b[0m\n\u001b[0;32m   1316\u001b[0m command \u001b[38;5;241m=\u001b[39m proto\u001b[38;5;241m.\u001b[39mCALL_COMMAND_NAME \u001b[38;5;241m+\u001b[39m\\\n\u001b[0;32m   1317\u001b[0m     \u001b[38;5;28mself\u001b[39m\u001b[38;5;241m.\u001b[39mcommand_header \u001b[38;5;241m+\u001b[39m\\\n\u001b[0;32m   1318\u001b[0m     args_command \u001b[38;5;241m+\u001b[39m\\\n\u001b[0;32m   1319\u001b[0m     proto\u001b[38;5;241m.\u001b[39mEND_COMMAND_PART\n\u001b[0;32m   1321\u001b[0m answer \u001b[38;5;241m=\u001b[39m \u001b[38;5;28mself\u001b[39m\u001b[38;5;241m.\u001b[39mgateway_client\u001b[38;5;241m.\u001b[39msend_command(command)\n\u001b[1;32m-> 1322\u001b[0m return_value \u001b[38;5;241m=\u001b[39m \u001b[43mget_return_value\u001b[49m\u001b[43m(\u001b[49m\n\u001b[0;32m   1323\u001b[0m \u001b[43m    \u001b[49m\u001b[43manswer\u001b[49m\u001b[43m,\u001b[49m\u001b[43m \u001b[49m\u001b[38;5;28;43mself\u001b[39;49m\u001b[38;5;241;43m.\u001b[39;49m\u001b[43mgateway_client\u001b[49m\u001b[43m,\u001b[49m\u001b[43m \u001b[49m\u001b[38;5;28;43mself\u001b[39;49m\u001b[38;5;241;43m.\u001b[39;49m\u001b[43mtarget_id\u001b[49m\u001b[43m,\u001b[49m\u001b[43m \u001b[49m\u001b[38;5;28;43mself\u001b[39;49m\u001b[38;5;241;43m.\u001b[39;49m\u001b[43mname\u001b[49m\u001b[43m)\u001b[49m\n\u001b[0;32m   1325\u001b[0m \u001b[38;5;28;01mfor\u001b[39;00m temp_arg \u001b[38;5;129;01min\u001b[39;00m temp_args:\n\u001b[0;32m   1326\u001b[0m     \u001b[38;5;28;01mif\u001b[39;00m \u001b[38;5;28mhasattr\u001b[39m(temp_arg, \u001b[38;5;124m\"\u001b[39m\u001b[38;5;124m_detach\u001b[39m\u001b[38;5;124m\"\u001b[39m):\n",
      "File \u001b[1;32mc:\\Python312\\Lib\\site-packages\\pyspark\\errors\\exceptions\\captured.py:179\u001b[0m, in \u001b[0;36mcapture_sql_exception.<locals>.deco\u001b[1;34m(*a, **kw)\u001b[0m\n\u001b[0;32m    177\u001b[0m \u001b[38;5;28;01mdef\u001b[39;00m \u001b[38;5;21mdeco\u001b[39m(\u001b[38;5;241m*\u001b[39ma: Any, \u001b[38;5;241m*\u001b[39m\u001b[38;5;241m*\u001b[39mkw: Any) \u001b[38;5;241m-\u001b[39m\u001b[38;5;241m>\u001b[39m Any:\n\u001b[0;32m    178\u001b[0m     \u001b[38;5;28;01mtry\u001b[39;00m:\n\u001b[1;32m--> 179\u001b[0m         \u001b[38;5;28;01mreturn\u001b[39;00m \u001b[43mf\u001b[49m\u001b[43m(\u001b[49m\u001b[38;5;241;43m*\u001b[39;49m\u001b[43ma\u001b[49m\u001b[43m,\u001b[49m\u001b[43m \u001b[49m\u001b[38;5;241;43m*\u001b[39;49m\u001b[38;5;241;43m*\u001b[39;49m\u001b[43mkw\u001b[49m\u001b[43m)\u001b[49m\n\u001b[0;32m    180\u001b[0m     \u001b[38;5;28;01mexcept\u001b[39;00m Py4JJavaError \u001b[38;5;28;01mas\u001b[39;00m e:\n\u001b[0;32m    181\u001b[0m         converted \u001b[38;5;241m=\u001b[39m convert_exception(e\u001b[38;5;241m.\u001b[39mjava_exception)\n",
      "File \u001b[1;32mc:\\Python312\\Lib\\site-packages\\py4j\\protocol.py:326\u001b[0m, in \u001b[0;36mget_return_value\u001b[1;34m(answer, gateway_client, target_id, name)\u001b[0m\n\u001b[0;32m    324\u001b[0m value \u001b[38;5;241m=\u001b[39m OUTPUT_CONVERTER[\u001b[38;5;28mtype\u001b[39m](answer[\u001b[38;5;241m2\u001b[39m:], gateway_client)\n\u001b[0;32m    325\u001b[0m \u001b[38;5;28;01mif\u001b[39;00m answer[\u001b[38;5;241m1\u001b[39m] \u001b[38;5;241m==\u001b[39m REFERENCE_TYPE:\n\u001b[1;32m--> 326\u001b[0m     \u001b[38;5;28;01mraise\u001b[39;00m Py4JJavaError(\n\u001b[0;32m    327\u001b[0m         \u001b[38;5;124m\"\u001b[39m\u001b[38;5;124mAn error occurred while calling \u001b[39m\u001b[38;5;132;01m{0}\u001b[39;00m\u001b[38;5;132;01m{1}\u001b[39;00m\u001b[38;5;132;01m{2}\u001b[39;00m\u001b[38;5;124m.\u001b[39m\u001b[38;5;130;01m\\n\u001b[39;00m\u001b[38;5;124m\"\u001b[39m\u001b[38;5;241m.\u001b[39m\n\u001b[0;32m    328\u001b[0m         \u001b[38;5;28mformat\u001b[39m(target_id, \u001b[38;5;124m\"\u001b[39m\u001b[38;5;124m.\u001b[39m\u001b[38;5;124m\"\u001b[39m, name), value)\n\u001b[0;32m    329\u001b[0m \u001b[38;5;28;01melse\u001b[39;00m:\n\u001b[0;32m    330\u001b[0m     \u001b[38;5;28;01mraise\u001b[39;00m Py4JError(\n\u001b[0;32m    331\u001b[0m         \u001b[38;5;124m\"\u001b[39m\u001b[38;5;124mAn error occurred while calling \u001b[39m\u001b[38;5;132;01m{0}\u001b[39;00m\u001b[38;5;132;01m{1}\u001b[39;00m\u001b[38;5;132;01m{2}\u001b[39;00m\u001b[38;5;124m. Trace:\u001b[39m\u001b[38;5;130;01m\\n\u001b[39;00m\u001b[38;5;132;01m{3}\u001b[39;00m\u001b[38;5;130;01m\\n\u001b[39;00m\u001b[38;5;124m\"\u001b[39m\u001b[38;5;241m.\u001b[39m\n\u001b[0;32m    332\u001b[0m         \u001b[38;5;28mformat\u001b[39m(target_id, \u001b[38;5;124m\"\u001b[39m\u001b[38;5;124m.\u001b[39m\u001b[38;5;124m\"\u001b[39m, name, value))\n",
      "\u001b[1;31mPy4JJavaError\u001b[0m: An error occurred while calling o561.showString.\n: org.apache.spark.SparkException: Job aborted due to stage failure: Task 0 in stage 41.0 failed 1 times, most recent failure: Lost task 0.0 in stage 41.0 (TID 25) (latitude executor driver): org.apache.spark.SparkException: Python worker failed to connect back.\r\n\tat org.apache.spark.api.python.PythonWorkerFactory.createSimpleWorker(PythonWorkerFactory.scala:203)\r\n\tat org.apache.spark.api.python.PythonWorkerFactory.create(PythonWorkerFactory.scala:109)\r\n\tat org.apache.spark.SparkEnv.createPythonWorker(SparkEnv.scala:124)\r\n\tat org.apache.spark.api.python.BasePythonRunner.compute(PythonRunner.scala:174)\r\n\tat org.apache.spark.sql.execution.python.BatchEvalPythonExec.evaluate(BatchEvalPythonExec.scala:54)\r\n\tat org.apache.spark.sql.execution.python.EvalPythonExec.$anonfun$doExecute$2(EvalPythonExec.scala:131)\r\n\tat org.apache.spark.rdd.RDD.$anonfun$mapPartitions$2(RDD.scala:858)\r\n\tat org.apache.spark.rdd.RDD.$anonfun$mapPartitions$2$adapted(RDD.scala:858)\r\n\tat org.apache.spark.rdd.MapPartitionsRDD.compute(MapPartitionsRDD.scala:52)\r\n\tat org.apache.spark.rdd.RDD.computeOrReadCheckpoint(RDD.scala:367)\r\n\tat org.apache.spark.rdd.RDD.iterator(RDD.scala:331)\r\n\tat org.apache.spark.rdd.MapPartitionsRDD.compute(MapPartitionsRDD.scala:52)\r\n\tat org.apache.spark.rdd.RDD.computeOrReadCheckpoint(RDD.scala:367)\r\n\tat org.apache.spark.rdd.RDD.iterator(RDD.scala:331)\r\n\tat org.apache.spark.rdd.MapPartitionsRDD.compute(MapPartitionsRDD.scala:52)\r\n\tat org.apache.spark.rdd.RDD.computeOrReadCheckpoint(RDD.scala:367)\r\n\tat org.apache.spark.rdd.RDD.iterator(RDD.scala:331)\r\n\tat org.apache.spark.scheduler.ResultTask.runTask(ResultTask.scala:93)\r\n\tat org.apache.spark.TaskContext.runTaskWithListeners(TaskContext.scala:166)\r\n\tat org.apache.spark.scheduler.Task.run(Task.scala:141)\r\n\tat org.apache.spark.executor.Executor$TaskRunner.$anonfun$run$4(Executor.scala:620)\r\n\tat org.apache.spark.util.SparkErrorUtils.tryWithSafeFinally(SparkErrorUtils.scala:64)\r\n\tat org.apache.spark.util.SparkErrorUtils.tryWithSafeFinally$(SparkErrorUtils.scala:61)\r\n\tat org.apache.spark.util.Utils$.tryWithSafeFinally(Utils.scala:94)\r\n\tat org.apache.spark.executor.Executor$TaskRunner.run(Executor.scala:623)\r\n\tat java.base/java.util.concurrent.ThreadPoolExecutor.runWorker(ThreadPoolExecutor.java:1144)\r\n\tat java.base/java.util.concurrent.ThreadPoolExecutor$Worker.run(ThreadPoolExecutor.java:642)\r\n\tat java.base/java.lang.Thread.run(Thread.java:1583)\r\nCaused by: java.net.SocketTimeoutException: Accept timed out\r\n\tat java.base/sun.nio.ch.NioSocketImpl.timedAccept(NioSocketImpl.java:701)\r\n\tat java.base/sun.nio.ch.NioSocketImpl.accept(NioSocketImpl.java:745)\r\n\tat java.base/java.net.ServerSocket.implAccept(ServerSocket.java:698)\r\n\tat java.base/java.net.ServerSocket.platformImplAccept(ServerSocket.java:663)\r\n\tat java.base/java.net.ServerSocket.implAccept(ServerSocket.java:639)\r\n\tat java.base/java.net.ServerSocket.implAccept(ServerSocket.java:585)\r\n\tat java.base/java.net.ServerSocket.accept(ServerSocket.java:543)\r\n\tat org.apache.spark.api.python.PythonWorkerFactory.createSimpleWorker(PythonWorkerFactory.scala:190)\r\n\t... 27 more\r\n\nDriver stacktrace:\r\n\tat org.apache.spark.scheduler.DAGScheduler.failJobAndIndependentStages(DAGScheduler.scala:2856)\r\n\tat org.apache.spark.scheduler.DAGScheduler.$anonfun$abortStage$2(DAGScheduler.scala:2792)\r\n\tat org.apache.spark.scheduler.DAGScheduler.$anonfun$abortStage$2$adapted(DAGScheduler.scala:2791)\r\n\tat scala.collection.mutable.ResizableArray.foreach(ResizableArray.scala:62)\r\n\tat scala.collection.mutable.ResizableArray.foreach$(ResizableArray.scala:55)\r\n\tat scala.collection.mutable.ArrayBuffer.foreach(ArrayBuffer.scala:49)\r\n\tat org.apache.spark.scheduler.DAGScheduler.abortStage(DAGScheduler.scala:2791)\r\n\tat org.apache.spark.scheduler.DAGScheduler.$anonfun$handleTaskSetFailed$1(DAGScheduler.scala:1247)\r\n\tat org.apache.spark.scheduler.DAGScheduler.$anonfun$handleTaskSetFailed$1$adapted(DAGScheduler.scala:1247)\r\n\tat scala.Option.foreach(Option.scala:407)\r\n\tat org.apache.spark.scheduler.DAGScheduler.handleTaskSetFailed(DAGScheduler.scala:1247)\r\n\tat org.apache.spark.scheduler.DAGSchedulerEventProcessLoop.doOnReceive(DAGScheduler.scala:3060)\r\n\tat org.apache.spark.scheduler.DAGSchedulerEventProcessLoop.onReceive(DAGScheduler.scala:2994)\r\n\tat org.apache.spark.scheduler.DAGSchedulerEventProcessLoop.onReceive(DAGScheduler.scala:2983)\r\n\tat org.apache.spark.util.EventLoop$$anon$1.run(EventLoop.scala:49)\r\n\tat org.apache.spark.scheduler.DAGScheduler.runJob(DAGScheduler.scala:989)\r\n\tat org.apache.spark.SparkContext.runJob(SparkContext.scala:2393)\r\n\tat org.apache.spark.SparkContext.runJob(SparkContext.scala:2414)\r\n\tat org.apache.spark.SparkContext.runJob(SparkContext.scala:2433)\r\n\tat org.apache.spark.sql.execution.SparkPlan.executeTake(SparkPlan.scala:530)\r\n\tat org.apache.spark.sql.execution.SparkPlan.executeTake(SparkPlan.scala:483)\r\n\tat org.apache.spark.sql.execution.CollectLimitExec.executeCollect(limit.scala:61)\r\n\tat org.apache.spark.sql.Dataset.collectFromPlan(Dataset.scala:4333)\r\n\tat org.apache.spark.sql.Dataset.$anonfun$head$1(Dataset.scala:3316)\r\n\tat org.apache.spark.sql.Dataset.$anonfun$withAction$2(Dataset.scala:4323)\r\n\tat org.apache.spark.sql.execution.QueryExecution$.withInternalError(QueryExecution.scala:546)\r\n\tat org.apache.spark.sql.Dataset.$anonfun$withAction$1(Dataset.scala:4321)\r\n\tat org.apache.spark.sql.execution.SQLExecution$.$anonfun$withNewExecutionId$6(SQLExecution.scala:125)\r\n\tat org.apache.spark.sql.execution.SQLExecution$.withSQLConfPropagated(SQLExecution.scala:201)\r\n\tat org.apache.spark.sql.execution.SQLExecution$.$anonfun$withNewExecutionId$1(SQLExecution.scala:108)\r\n\tat org.apache.spark.sql.SparkSession.withActive(SparkSession.scala:900)\r\n\tat org.apache.spark.sql.execution.SQLExecution$.withNewExecutionId(SQLExecution.scala:66)\r\n\tat org.apache.spark.sql.Dataset.withAction(Dataset.scala:4321)\r\n\tat org.apache.spark.sql.Dataset.head(Dataset.scala:3316)\r\n\tat org.apache.spark.sql.Dataset.take(Dataset.scala:3539)\r\n\tat org.apache.spark.sql.Dataset.getRows(Dataset.scala:280)\r\n\tat org.apache.spark.sql.Dataset.showString(Dataset.scala:315)\r\n\tat java.base/jdk.internal.reflect.NativeMethodAccessorImpl.invoke0(Native Method)\r\n\tat java.base/jdk.internal.reflect.NativeMethodAccessorImpl.invoke(NativeMethodAccessorImpl.java:75)\r\n\tat java.base/jdk.internal.reflect.DelegatingMethodAccessorImpl.invoke(DelegatingMethodAccessorImpl.java:52)\r\n\tat java.base/java.lang.reflect.Method.invoke(Method.java:580)\r\n\tat py4j.reflection.MethodInvoker.invoke(MethodInvoker.java:244)\r\n\tat py4j.reflection.ReflectionEngine.invoke(ReflectionEngine.java:374)\r\n\tat py4j.Gateway.invoke(Gateway.java:282)\r\n\tat py4j.commands.AbstractCommand.invokeMethod(AbstractCommand.java:132)\r\n\tat py4j.commands.CallCommand.execute(CallCommand.java:79)\r\n\tat py4j.ClientServerConnection.waitForCommands(ClientServerConnection.java:182)\r\n\tat py4j.ClientServerConnection.run(ClientServerConnection.java:106)\r\n\tat java.base/java.lang.Thread.run(Thread.java:1583)\r\nCaused by: org.apache.spark.SparkException: Python worker failed to connect back.\r\n\tat org.apache.spark.api.python.PythonWorkerFactory.createSimpleWorker(PythonWorkerFactory.scala:203)\r\n\tat org.apache.spark.api.python.PythonWorkerFactory.create(PythonWorkerFactory.scala:109)\r\n\tat org.apache.spark.SparkEnv.createPythonWorker(SparkEnv.scala:124)\r\n\tat org.apache.spark.api.python.BasePythonRunner.compute(PythonRunner.scala:174)\r\n\tat org.apache.spark.sql.execution.python.BatchEvalPythonExec.evaluate(BatchEvalPythonExec.scala:54)\r\n\tat org.apache.spark.sql.execution.python.EvalPythonExec.$anonfun$doExecute$2(EvalPythonExec.scala:131)\r\n\tat org.apache.spark.rdd.RDD.$anonfun$mapPartitions$2(RDD.scala:858)\r\n\tat org.apache.spark.rdd.RDD.$anonfun$mapPartitions$2$adapted(RDD.scala:858)\r\n\tat org.apache.spark.rdd.MapPartitionsRDD.compute(MapPartitionsRDD.scala:52)\r\n\tat org.apache.spark.rdd.RDD.computeOrReadCheckpoint(RDD.scala:367)\r\n\tat org.apache.spark.rdd.RDD.iterator(RDD.scala:331)\r\n\tat org.apache.spark.rdd.MapPartitionsRDD.compute(MapPartitionsRDD.scala:52)\r\n\tat org.apache.spark.rdd.RDD.computeOrReadCheckpoint(RDD.scala:367)\r\n\tat org.apache.spark.rdd.RDD.iterator(RDD.scala:331)\r\n\tat org.apache.spark.rdd.MapPartitionsRDD.compute(MapPartitionsRDD.scala:52)\r\n\tat org.apache.spark.rdd.RDD.computeOrReadCheckpoint(RDD.scala:367)\r\n\tat org.apache.spark.rdd.RDD.iterator(RDD.scala:331)\r\n\tat org.apache.spark.scheduler.ResultTask.runTask(ResultTask.scala:93)\r\n\tat org.apache.spark.TaskContext.runTaskWithListeners(TaskContext.scala:166)\r\n\tat org.apache.spark.scheduler.Task.run(Task.scala:141)\r\n\tat org.apache.spark.executor.Executor$TaskRunner.$anonfun$run$4(Executor.scala:620)\r\n\tat org.apache.spark.util.SparkErrorUtils.tryWithSafeFinally(SparkErrorUtils.scala:64)\r\n\tat org.apache.spark.util.SparkErrorUtils.tryWithSafeFinally$(SparkErrorUtils.scala:61)\r\n\tat org.apache.spark.util.Utils$.tryWithSafeFinally(Utils.scala:94)\r\n\tat org.apache.spark.executor.Executor$TaskRunner.run(Executor.scala:623)\r\n\tat java.base/java.util.concurrent.ThreadPoolExecutor.runWorker(ThreadPoolExecutor.java:1144)\r\n\tat java.base/java.util.concurrent.ThreadPoolExecutor$Worker.run(ThreadPoolExecutor.java:642)\r\n\t... 1 more\r\nCaused by: java.net.SocketTimeoutException: Accept timed out\r\n\tat java.base/sun.nio.ch.NioSocketImpl.timedAccept(NioSocketImpl.java:701)\r\n\tat java.base/sun.nio.ch.NioSocketImpl.accept(NioSocketImpl.java:745)\r\n\tat java.base/java.net.ServerSocket.implAccept(ServerSocket.java:698)\r\n\tat java.base/java.net.ServerSocket.platformImplAccept(ServerSocket.java:663)\r\n\tat java.base/java.net.ServerSocket.implAccept(ServerSocket.java:639)\r\n\tat java.base/java.net.ServerSocket.implAccept(ServerSocket.java:585)\r\n\tat java.base/java.net.ServerSocket.accept(ServerSocket.java:543)\r\n\tat org.apache.spark.api.python.PythonWorkerFactory.createSimpleWorker(PythonWorkerFactory.scala:190)\r\n\t... 27 more\r\n"
     ]
    }
   ],
   "source": [
    "from rapidfuzz import process\n",
    "genders = ['Male', 'Female']\n",
    "yesno = ['Yes', 'No']\n",
    "yesno_phone = [\"Yes\", \"No\", \"No phone service\"]\n",
    "yesno_internet = [\"Yes\", \"No\", \"No internet service\"]\n",
    "\n",
    "def match_gender(word):\n",
    "    if word is None:\n",
    "        return None\n",
    "    best_match, score = process.extractOne(word, genders)\n",
    "\n",
    "    if score >= 80:\n",
    "        return best_match\n",
    "    else:\n",
    "        return None\n",
    "\n",
    "def match_yesno(word):\n",
    "    if word is None:\n",
    "        return None\n",
    "    best_match, score = process.extractOne(word, yesno)\n",
    "\n",
    "    if score >= 80:\n",
    "        return best_match\n",
    "    else:\n",
    "        return None\n",
    "\n",
    "\n",
    "def match_yesno_phone(word):\n",
    "    if word is None:\n",
    "        return None\n",
    "    best_match, score = process.extractOne(word, yesno_phone)\n",
    "\n",
    "    if score >= 80:\n",
    "        return best_match\n",
    "    else:\n",
    "        return None\n",
    "\n",
    "\n",
    "def match_yesno_internet(word):\n",
    "    if word is None:\n",
    "        return None\n",
    "    best_match, score = process.extractOne(word, yesno_internet)\n",
    "\n",
    "    if score >= 80:\n",
    "        return best_match\n",
    "    else:\n",
    "        return None\n",
    "\n",
    "\n",
    "# define udf for spark\n",
    "udf_match_gender = udf(match_gender, StringType())\n",
    "udf_match_yesno = udf(match_yesno, StringType())\n",
    "udf_match_yesno_phone = udf(match_yesno_phone, StringType())\n",
    "udf_match_yesno_internet = udf(match_yesno_internet, StringType())\n",
    "\n",
    "# fix detected typos, or set null if not considered typo\n",
    "df = df.withColumns(\n",
    "    {\n",
    "        \"Gender\": udf_match_gender(col(\"Gender\")),\n",
    "        \"Partner\": udf_match_yesno(col(\"Partner\")),\n",
    "        \"Dependents\": udf_match_yesno(col(\"Dependents\")),\n",
    "        \"PhoneService\": udf_match_yesno(col(\"PhoneService\")),\n",
    "        \"MultipleLines\": udf_match_yesno_phone(col(\"MultipleLines\")),\n",
    "        \"OnlineSecurity\": udf_match_yesno_internet(col(\"OnlineSecurity\")),\n",
    "        \"OnlineBackup\": udf_match_yesno_internet(col(\"OnlineBackup\")),\n",
    "        \"DeviceProtection\": udf_match_yesno_internet(col(\"DeviceProtection\")),\n",
    "        \"TechSupport\": udf_match_yesno_internet(col(\"TechSupport\")),\n",
    "        \"StreamingTV\": udf_match_yesno_internet(col(\"StreamingTV\")),\n",
    "        \"StreamingMovies\": udf_match_yesno_internet(col(\"StreamingMovies\")),\n",
    "        \"PaperlessBilling\": udf_match_yesno(col(\"PaperlessBilling\")),\n",
    "        \"Churn\": udf_match_yesno(col(\"Churn\")),\n",
    "    }\n",
    ")\n",
    "df.show()"
   ]
  },
  {
   "cell_type": "markdown",
   "metadata": {},
   "source": [
    "### Drop duplicates and null values"
   ]
  },
  {
   "cell_type": "code",
   "execution_count": 6,
   "metadata": {},
   "outputs": [],
   "source": [
    "# drop duplicates\n",
    "df = df.dropDuplicates()\n",
    "\n",
    "# drop duplicates by CustomerID\n",
    "df = df.dropDuplicates(['CustomerID'])\n",
    "\n",
    "# df.count()"
   ]
  },
  {
   "cell_type": "code",
   "execution_count": 7,
   "metadata": {},
   "outputs": [],
   "source": [
    "# drop na on non PhoneService or InternetService related columns\n",
    "df = df.dropna(\n",
    "    subset=[\n",
    "        \"CustomerID\",\n",
    "        \"Gender\",\n",
    "        \"SeniorCitizen\",\n",
    "        \"Partner\",\n",
    "        \"Dependents\",\n",
    "        \"Tenure\",\n",
    "        \"PhoneService\",\n",
    "        \"InternetService\",\n",
    "        \"Contract\",\n",
    "        \"PaperlessBilling\",\n",
    "        \"PaymentMethod\",\n",
    "        \"MonthlyCharges\",\n",
    "        \"TotalCharges\",\n",
    "        \"Churn\",\n",
    "    ]\n",
    ")\n",
    "# df.count()"
   ]
  },
  {
   "cell_type": "markdown",
   "metadata": {},
   "source": [
    "### Check consistency for PhoneService"
   ]
  },
  {
   "cell_type": "code",
   "execution_count": 8,
   "metadata": {},
   "outputs": [],
   "source": [
    "# check consistency for PhoneService related columns\n",
    "invalid_phone = df.where(\"PhoneService == 'No' AND MultipleLines <> 'No phone service'\")\n",
    "\n",
    "# subtract invalid PhoneService from df\n",
    "df = df.subtract(invalid_phone)\n",
    "# df.count()"
   ]
  },
  {
   "cell_type": "markdown",
   "metadata": {},
   "source": [
    "### Check consistency for InternetService"
   ]
  },
  {
   "cell_type": "code",
   "execution_count": 9,
   "metadata": {},
   "outputs": [],
   "source": [
    "# check consistency for InternetService related columns\n",
    "invalid_internet = df.where(\n",
    "    \"\"\"InternetService = 'No' AND (\n",
    "                           OnlineSecurity <> 'No internet service' OR\n",
    "                           OnlineBackup <> 'No internet service' OR\n",
    "                           DeviceProtection <> 'No internet service' OR\n",
    "                           TechSupport <> 'No internet service' OR\n",
    "                           StreamingTV <> 'No internet service' OR\n",
    "                           StreamingMovies <> 'No internet service')\"\"\"\n",
    ")\n",
    "\n",
    "# subtract invalid InternetService from df\n",
    "df = df.subtract(invalid_internet)\n",
    "# df.count()"
   ]
  },
  {
   "cell_type": "markdown",
   "metadata": {},
   "source": [
    "### Check consistency for SeniorCitizen"
   ]
  },
  {
   "cell_type": "code",
   "execution_count": 10,
   "metadata": {},
   "outputs": [],
   "source": [
    "invalid_senior = df.where(\"SeniorCitizen <> 0 AND SeniorCitizen <> 1\")\n",
    "\n",
    "# subtract\n",
    "df = df.subtract(invalid_senior)\n",
    "# df.count()"
   ]
  },
  {
   "cell_type": "markdown",
   "metadata": {},
   "source": [
    "### Fill missing values (PhoneService and InternetService)\n",
    "\n",
    "- if PhoneService or InternetService == 'Yes' and respective column is missing, drop\n",
    "- if either == 'No', fill missing column with 'No phone service' or 'No internet service' respectively\n"
   ]
  },
  {
   "cell_type": "code",
   "execution_count": 12,
   "metadata": {},
   "outputs": [],
   "source": [
    "# if PhoneService or InternetService == 'Yes' and respective column is missing, drop\n",
    "missing_phone = df.where(\"PhoneService == 'Yes' AND MultipleLines IS NULL\")\n",
    "\n",
    "# subtract missing \"Yes\" on phones\n",
    "df = df.subtract(missing_phone)\n",
    "# df.count()"
   ]
  },
  {
   "cell_type": "code",
   "execution_count": 13,
   "metadata": {},
   "outputs": [],
   "source": [
    "# if PhoneService or InternetService == 'Yes' and respective column is missing, drop\n",
    "missing_internet = df.where(\n",
    "    \"\"\"InternetService == 'Yes' AND (\n",
    "    OnlineSecurity IS NULL OR\n",
    "    OnlineBackup IS NULL OR\n",
    "    DeviceProtection IS NULL OR\n",
    "    TechSupport IS NULL OR\n",
    "    StreamingTV IS NULL OR\n",
    "    StreamingMovies IS NULL)\"\"\"\n",
    ")\n",
    "\n",
    "# subtract missing \"Yes\" on internet\n",
    "df = df.subtract(missing_internet)\n",
    "# df.count()"
   ]
  },
  {
   "cell_type": "code",
   "execution_count": 14,
   "metadata": {},
   "outputs": [],
   "source": [
    "# if == 'No', fill missing column with 'No phone service' or 'No internet service' respectively\n",
    "\n",
    "# handle PhoneService\n",
    "df = df.withColumn(\"MultipleLines\", when(col(\"PhoneService\") == \"No\", \"No phone service\").otherwise(col(\"MultipleLines\")))\n",
    "\n",
    "# handle InternetService\n",
    "df = df.withColumns(\n",
    "    {\n",
    "        \"OnlineSecurity\": when(\n",
    "            col(\"InternetService\") == \"No\", \"No internet service\"\n",
    "        ).otherwise(col(\"OnlineSecurity\")),\n",
    "        \"OnlineBackup\": when(\n",
    "            col(\"InternetService\") == \"No\", \"No internet service\"\n",
    "        ).otherwise(col(\"OnlineBackup\")),\n",
    "        \"DeviceProtection\": when(\n",
    "            col(\"InternetService\") == \"No\", \"No internet service\"\n",
    "        ).otherwise(col(\"DeviceProtection\")),\n",
    "        \"TechSupport\": when(\n",
    "            col(\"InternetService\") == \"No\", \"No internet service\"\n",
    "        ).otherwise(col(\"TechSupport\")),\n",
    "        \"StreamingTV\": when(\n",
    "            col(\"InternetService\") == \"No\", \"No internet service\"\n",
    "        ).otherwise(col(\"StreamingTV\")),\n",
    "        \"StreamingMovies\": when(\n",
    "            col(\"InternetService\") == \"No\", \"No internet service\"\n",
    "        ).otherwise(col(\"StreamingMovies\"))\n",
    "        \n",
    "    }\n",
    ")"
   ]
  },
  {
   "cell_type": "markdown",
   "metadata": {},
   "source": [
    "### Delete invalid values"
   ]
  },
  {
   "cell_type": "code",
   "execution_count": 15,
   "metadata": {},
   "outputs": [],
   "source": [
    "invalid_float = df.where(\"Tenure < 0 OR MonthlyCharges < 0 OR TotalCharges < 0 OR MonthlyCharges == 'NaN' OR TotalCharges == 'NaN'\")\n",
    "df = df.subtract(invalid_float)\n",
    "# df.count()"
   ]
  },
  {
   "cell_type": "markdown",
   "metadata": {},
   "source": [
    "### One-hot encoding"
   ]
  },
  {
   "cell_type": "code",
   "execution_count": 16,
   "metadata": {},
   "outputs": [
    {
     "name": "stdout",
     "output_type": "stream",
     "text": [
      "+----------+------+-------------+-------+----------+------+------------+----------------+---------------+--------------+------------+----------------+-----------+-----------+---------------+--------------+----------------+--------------------+--------------+------------+-----+-------------+--------------------+----------------------+---------------------+-------------------+-----------------------+------------------+------------------+----------------------+---------------+--------------------+\n",
      "|CustomerID|Gender|SeniorCitizen|Partner|Dependents|Tenure|PhoneService|   MultipleLines|InternetService|OnlineSecurity|OnlineBackup|DeviceProtection|TechSupport|StreamingTV|StreamingMovies|      Contract|PaperlessBilling|       PaymentMethod|MonthlyCharges|TotalCharges|Churn|GenderIndexed|MultipleLinesIndexed|InternetServiceIndexed|OnlineSecurityIndexed|OnlineBackupIndexed|DeviceProtectionIndexed|TechSupportIndexed|StreamingTVIndexed|StreamingMoviesIndexed|ContractIndexed|PaymentMethodIndexed|\n",
      "+----------+------+-------------+-------+----------+------+------------+----------------+---------------+--------------+------------+----------------+-----------+-----------+---------------+--------------+----------------+--------------------+--------------+------------+-----+-------------+--------------------+----------------------+---------------------+-------------------+-----------------------+------------------+------------------+----------------------+---------------+--------------------+\n",
      "|0002-ORFBO|Female|            0|    Yes|       Yes|     9|         Yes|              No|            DSL|            No|         Yes|              No|        Yes|        Yes|             No|      One year|             Yes|        Mailed check|          65.6|       593.3|   No|          1.0|                 0.0|                   1.0|                  0.0|                1.0|                    0.0|               1.0|               1.0|                   0.0|            2.0|                 1.0|\n",
      "|0003-MKNFE|  Male|            0|     No|        No|     9|         Yes|             Yes|            DSL|            No|          No|              No|         No|         No|            Yes|Month-to-month|              No|        Mailed check|          59.9|       542.4|   No|          0.0|                 1.0|                   1.0|                  0.0|                0.0|                    0.0|               0.0|               0.0|                   1.0|            0.0|                 1.0|\n",
      "|0004-TLHLJ|  Male|            0|     No|        No|     4|         Yes|              No|    Fiber optic|            No|          No|             Yes|         No|         No|             No|Month-to-month|             Yes|    Electronic check|          73.9|      280.85|  Yes|          0.0|                 0.0|                   0.0|                  0.0|                0.0|                    1.0|               0.0|               0.0|                   0.0|            0.0|                 0.0|\n",
      "|0011-IGKFF|  Male|            1|    Yes|        No|    13|         Yes|              No|    Fiber optic|            No|         Yes|             Yes|         No|        Yes|            Yes|Month-to-month|             Yes|    Electronic check|          98.0|     1237.85|  Yes|          0.0|                 0.0|                   0.0|                  0.0|                1.0|                    1.0|               0.0|               1.0|                   1.0|            0.0|                 0.0|\n",
      "|0013-EXCHZ|Female|            1|    Yes|        No|     3|         Yes|              No|    Fiber optic|            No|          No|              No|        Yes|        Yes|             No|Month-to-month|             Yes|        Mailed check|          83.9|       267.4|  Yes|          1.0|                 0.0|                   0.0|                  0.0|                0.0|                    0.0|               1.0|               1.0|                   0.0|            0.0|                 1.0|\n",
      "|0013-MHZWF|Female|            0|     No|       Yes|     9|         Yes|              No|            DSL|            No|          No|              No|        Yes|        Yes|            Yes|Month-to-month|             Yes|Credit card (auto...|          69.4|      571.45|   No|          1.0|                 0.0|                   1.0|                  0.0|                0.0|                    0.0|               1.0|               1.0|                   1.0|            0.0|                 3.0|\n",
      "|0013-SMEOE|Female|            1|    Yes|        No|    71|         Yes|              No|    Fiber optic|           Yes|         Yes|             Yes|        Yes|        Yes|            Yes|      Two year|             Yes|Bank transfer (au...|         109.7|     7904.25|   No|          1.0|                 0.0|                   0.0|                  1.0|                1.0|                    1.0|               1.0|               1.0|                   1.0|            1.0|                 2.0|\n",
      "|0014-BMAQU|  Male|            0|    Yes|        No|    63|         Yes|             Yes|    Fiber optic|           Yes|          No|              No|        Yes|         No|             No|      Two year|             Yes|Credit card (auto...|         84.65|      5377.8|   No|          0.0|                 1.0|                   0.0|                  1.0|                0.0|                    0.0|               1.0|               0.0|                   0.0|            1.0|                 3.0|\n",
      "|0015-UOCOJ|Female|            1|     No|        No|     7|         Yes|              No|            DSL|           Yes|          No|              No|         No|         No|             No|Month-to-month|             Yes|    Electronic check|          48.2|      340.35|   No|          1.0|                 0.0|                   1.0|                  1.0|                0.0|                    0.0|               0.0|               0.0|                   0.0|            0.0|                 0.0|\n",
      "|0016-QLJIS|Female|            0|    Yes|       Yes|    65|         Yes|             Yes|            DSL|           Yes|         Yes|             Yes|        Yes|        Yes|            Yes|      Two year|             Yes|        Mailed check|         90.45|      5957.9|   No|          1.0|                 1.0|                   1.0|                  1.0|                1.0|                    1.0|               1.0|               1.0|                   1.0|            1.0|                 1.0|\n",
      "|0017-DINOC|  Male|            0|     No|        No|    54|          No|No phone service|            DSL|           Yes|          No|              No|        Yes|        Yes|             No|      Two year|              No|Credit card (auto...|          45.2|     2460.55|   No|          0.0|                 2.0|                   1.0|                  1.0|                0.0|                    0.0|               1.0|               1.0|                   0.0|            1.0|                 3.0|\n",
      "|0017-IUDMW|Female|            0|    Yes|       Yes|    72|         Yes|             Yes|    Fiber optic|           Yes|         Yes|             Yes|        Yes|        Yes|            Yes|      Two year|             Yes|Credit card (auto...|         116.8|     8456.75|   No|          1.0|                 1.0|                   0.0|                  1.0|                1.0|                    1.0|               1.0|               1.0|                   1.0|            1.0|                 3.0|\n",
      "|0018-NYROU|Female|            0|    Yes|        No|     5|         Yes|              No|    Fiber optic|            No|          No|              No|         No|         No|             No|Month-to-month|             Yes|    Electronic check|         68.95|       351.5|   No|          1.0|                 0.0|                   0.0|                  0.0|                0.0|                    0.0|               0.0|               0.0|                   0.0|            0.0|                 0.0|\n",
      "|0019-EFAEP|Female|            0|     No|        No|    72|         Yes|             Yes|    Fiber optic|           Yes|         Yes|             Yes|         No|        Yes|             No|      Two year|             Yes|Bank transfer (au...|         101.3|     7261.25|   No|          1.0|                 1.0|                   0.0|                  1.0|                1.0|                    1.0|               0.0|               1.0|                   0.0|            1.0|                 2.0|\n",
      "|0019-GFNTW|Female|            0|     No|        No|    56|          No|No phone service|            DSL|           Yes|         Yes|             Yes|        Yes|         No|             No|      Two year|              No|Bank transfer (au...|         45.05|      2560.1|   No|          1.0|                 2.0|                   1.0|                  1.0|                1.0|                    1.0|               1.0|               0.0|                   0.0|            1.0|                 2.0|\n",
      "|0020-INWCK|Female|            0|    Yes|       Yes|    71|         Yes|             Yes|    Fiber optic|            No|         Yes|             Yes|         No|         No|            Yes|      Two year|             Yes|Credit card (auto...|         95.75|      6849.4|   No|          1.0|                 1.0|                   0.0|                  0.0|                1.0|                    1.0|               0.0|               0.0|                   1.0|            1.0|                 3.0|\n",
      "|0020-JDNXP|Female|            0|    Yes|       Yes|    34|          No|No phone service|            DSL|           Yes|          No|             Yes|        Yes|        Yes|            Yes|      One year|              No|        Mailed check|         61.25|      1993.2|   No|          1.0|                 2.0|                   1.0|                  1.0|                0.0|                    1.0|               1.0|               1.0|                   1.0|            2.0|                 1.0|\n",
      "|0021-IKXGC|Female|            1|     No|        No|     1|         Yes|             Yes|    Fiber optic|            No|          No|              No|         No|         No|             No|Month-to-month|             Yes|    Electronic check|          72.1|        72.1|   No|          1.0|                 1.0|                   0.0|                  0.0|                0.0|                    0.0|               0.0|               0.0|                   0.0|            0.0|                 0.0|\n",
      "|0022-TCJCI|  Male|            1|     No|        No|    45|         Yes|              No|            DSL|           Yes|          No|             Yes|         No|         No|            Yes|      One year|              No|Credit card (auto...|          62.7|      2791.5|  Yes|          0.0|                 0.0|                   1.0|                  1.0|                0.0|                    1.0|               0.0|               0.0|                   1.0|            2.0|                 3.0|\n",
      "|0023-HGHWL|  Male|            1|     No|        No|     1|          No|No phone service|            DSL|            No|          No|              No|         No|         No|             No|Month-to-month|             Yes|    Electronic check|          25.1|        25.1|  Yes|          0.0|                 2.0|                   1.0|                  0.0|                0.0|                    0.0|               0.0|               0.0|                   0.0|            0.0|                 0.0|\n",
      "+----------+------+-------------+-------+----------+------+------------+----------------+---------------+--------------+------------+----------------+-----------+-----------+---------------+--------------+----------------+--------------------+--------------+------------+-----+-------------+--------------------+----------------------+---------------------+-------------------+-----------------------+------------------+------------------+----------------------+---------------+--------------------+\n",
      "only showing top 20 rows\n",
      "\n"
     ]
    }
   ],
   "source": [
    "from pyspark.ml.feature import OneHotEncoder, StringIndexer\n",
    "\n",
    "# setup string indexer for df\n",
    "si = StringIndexer(\n",
    "    inputCols=[\n",
    "        \"Gender\",\n",
    "        \"MultipleLines\",\n",
    "        \"InternetService\",\n",
    "        \"OnlineSecurity\",\n",
    "        \"OnlineBackup\",\n",
    "        \"DeviceProtection\",\n",
    "        \"TechSupport\",\n",
    "        \"StreamingTV\",\n",
    "        \"StreamingMovies\",\n",
    "        \"Contract\",\n",
    "        \"PaymentMethod\",\n",
    "    ],\n",
    "    outputCols=[\n",
    "        \"GenderIndexed\",\n",
    "        \"MultipleLinesIndexed\",\n",
    "        \"InternetServiceIndexed\",\n",
    "        \"OnlineSecurityIndexed\",\n",
    "        \"OnlineBackupIndexed\",\n",
    "        \"DeviceProtectionIndexed\",\n",
    "        \"TechSupportIndexed\",\n",
    "        \"StreamingTVIndexed\",\n",
    "        \"StreamingMoviesIndexed\",\n",
    "        \"ContractIndexed\",\n",
    "        \"PaymentMethodIndexed\",\n",
    "    ],\n",
    ")\n",
    "si_model = si.fit(df)\n",
    "\n",
    "# indexing categoricals on df\n",
    "indexed_df = si_model.transform(df)\n",
    "indexed_df.show()\n",
    "\n"
   ]
  },
  {
   "cell_type": "code",
   "execution_count": 17,
   "metadata": {},
   "outputs": [
    {
     "name": "stdout",
     "output_type": "stream",
     "text": [
      "+----------+------+-------------+-------+----------+------+------------+----------------+---------------+--------------+------------+----------------+-----------+-----------+---------------+--------------+----------------+--------------------+--------------+------------+-----+-------------+--------------------+----------------------+---------------------+-------------------+-----------------------+------------------+------------------+----------------------+---------------+--------------------+-------------+-------------------+---------------------+--------------------+------------------+----------------------+-----------------+-----------------+---------------------+--------------+-------------------+\n",
      "|CustomerID|Gender|SeniorCitizen|Partner|Dependents|Tenure|PhoneService|   MultipleLines|InternetService|OnlineSecurity|OnlineBackup|DeviceProtection|TechSupport|StreamingTV|StreamingMovies|      Contract|PaperlessBilling|       PaymentMethod|MonthlyCharges|TotalCharges|Churn|GenderIndexed|MultipleLinesIndexed|InternetServiceIndexed|OnlineSecurityIndexed|OnlineBackupIndexed|DeviceProtectionIndexed|TechSupportIndexed|StreamingTVIndexed|StreamingMoviesIndexed|ContractIndexed|PaymentMethodIndexed| GenderVector|MultipleLinesVector|InternetServiceVector|OnlineSecurityVector|OnlineBackupVector|DeviceProtectionVector|TechSupportVector|StreamingTVVector|StreamingMoviesVector|ContractVector|PaymentMethodVector|\n",
      "+----------+------+-------------+-------+----------+------+------------+----------------+---------------+--------------+------------+----------------+-----------+-----------+---------------+--------------+----------------+--------------------+--------------+------------+-----+-------------+--------------------+----------------------+---------------------+-------------------+-----------------------+------------------+------------------+----------------------+---------------+--------------------+-------------+-------------------+---------------------+--------------------+------------------+----------------------+-----------------+-----------------+---------------------+--------------+-------------------+\n",
      "|0002-ORFBO|Female|            0|    Yes|       Yes|     9|         Yes|              No|            DSL|            No|         Yes|              No|        Yes|        Yes|             No|      One year|             Yes|        Mailed check|          65.6|       593.3|   No|          1.0|                 0.0|                   1.0|                  0.0|                1.0|                    0.0|               1.0|               1.0|                   0.0|            2.0|                 1.0|    (1,[],[])|      (2,[0],[1.0])|        (2,[1],[1.0])|       (2,[0],[1.0])|     (2,[1],[1.0])|         (2,[0],[1.0])|    (2,[1],[1.0])|    (2,[1],[1.0])|        (2,[0],[1.0])|     (2,[],[])|      (3,[1],[1.0])|\n",
      "|0003-MKNFE|  Male|            0|     No|        No|     9|         Yes|             Yes|            DSL|            No|          No|              No|         No|         No|            Yes|Month-to-month|              No|        Mailed check|          59.9|       542.4|   No|          0.0|                 1.0|                   1.0|                  0.0|                0.0|                    0.0|               0.0|               0.0|                   1.0|            0.0|                 1.0|(1,[0],[1.0])|      (2,[1],[1.0])|        (2,[1],[1.0])|       (2,[0],[1.0])|     (2,[0],[1.0])|         (2,[0],[1.0])|    (2,[0],[1.0])|    (2,[0],[1.0])|        (2,[1],[1.0])| (2,[0],[1.0])|      (3,[1],[1.0])|\n",
      "|0004-TLHLJ|  Male|            0|     No|        No|     4|         Yes|              No|    Fiber optic|            No|          No|             Yes|         No|         No|             No|Month-to-month|             Yes|    Electronic check|          73.9|      280.85|  Yes|          0.0|                 0.0|                   0.0|                  0.0|                0.0|                    1.0|               0.0|               0.0|                   0.0|            0.0|                 0.0|(1,[0],[1.0])|      (2,[0],[1.0])|        (2,[0],[1.0])|       (2,[0],[1.0])|     (2,[0],[1.0])|         (2,[1],[1.0])|    (2,[0],[1.0])|    (2,[0],[1.0])|        (2,[0],[1.0])| (2,[0],[1.0])|      (3,[0],[1.0])|\n",
      "|0011-IGKFF|  Male|            1|    Yes|        No|    13|         Yes|              No|    Fiber optic|            No|         Yes|             Yes|         No|        Yes|            Yes|Month-to-month|             Yes|    Electronic check|          98.0|     1237.85|  Yes|          0.0|                 0.0|                   0.0|                  0.0|                1.0|                    1.0|               0.0|               1.0|                   1.0|            0.0|                 0.0|(1,[0],[1.0])|      (2,[0],[1.0])|        (2,[0],[1.0])|       (2,[0],[1.0])|     (2,[1],[1.0])|         (2,[1],[1.0])|    (2,[0],[1.0])|    (2,[1],[1.0])|        (2,[1],[1.0])| (2,[0],[1.0])|      (3,[0],[1.0])|\n",
      "|0013-EXCHZ|Female|            1|    Yes|        No|     3|         Yes|              No|    Fiber optic|            No|          No|              No|        Yes|        Yes|             No|Month-to-month|             Yes|        Mailed check|          83.9|       267.4|  Yes|          1.0|                 0.0|                   0.0|                  0.0|                0.0|                    0.0|               1.0|               1.0|                   0.0|            0.0|                 1.0|    (1,[],[])|      (2,[0],[1.0])|        (2,[0],[1.0])|       (2,[0],[1.0])|     (2,[0],[1.0])|         (2,[0],[1.0])|    (2,[1],[1.0])|    (2,[1],[1.0])|        (2,[0],[1.0])| (2,[0],[1.0])|      (3,[1],[1.0])|\n",
      "|0013-MHZWF|Female|            0|     No|       Yes|     9|         Yes|              No|            DSL|            No|          No|              No|        Yes|        Yes|            Yes|Month-to-month|             Yes|Credit card (auto...|          69.4|      571.45|   No|          1.0|                 0.0|                   1.0|                  0.0|                0.0|                    0.0|               1.0|               1.0|                   1.0|            0.0|                 3.0|    (1,[],[])|      (2,[0],[1.0])|        (2,[1],[1.0])|       (2,[0],[1.0])|     (2,[0],[1.0])|         (2,[0],[1.0])|    (2,[1],[1.0])|    (2,[1],[1.0])|        (2,[1],[1.0])| (2,[0],[1.0])|          (3,[],[])|\n",
      "|0013-SMEOE|Female|            1|    Yes|        No|    71|         Yes|              No|    Fiber optic|           Yes|         Yes|             Yes|        Yes|        Yes|            Yes|      Two year|             Yes|Bank transfer (au...|         109.7|     7904.25|   No|          1.0|                 0.0|                   0.0|                  1.0|                1.0|                    1.0|               1.0|               1.0|                   1.0|            1.0|                 2.0|    (1,[],[])|      (2,[0],[1.0])|        (2,[0],[1.0])|       (2,[1],[1.0])|     (2,[1],[1.0])|         (2,[1],[1.0])|    (2,[1],[1.0])|    (2,[1],[1.0])|        (2,[1],[1.0])| (2,[1],[1.0])|      (3,[2],[1.0])|\n",
      "|0014-BMAQU|  Male|            0|    Yes|        No|    63|         Yes|             Yes|    Fiber optic|           Yes|          No|              No|        Yes|         No|             No|      Two year|             Yes|Credit card (auto...|         84.65|      5377.8|   No|          0.0|                 1.0|                   0.0|                  1.0|                0.0|                    0.0|               1.0|               0.0|                   0.0|            1.0|                 3.0|(1,[0],[1.0])|      (2,[1],[1.0])|        (2,[0],[1.0])|       (2,[1],[1.0])|     (2,[0],[1.0])|         (2,[0],[1.0])|    (2,[1],[1.0])|    (2,[0],[1.0])|        (2,[0],[1.0])| (2,[1],[1.0])|          (3,[],[])|\n",
      "|0015-UOCOJ|Female|            1|     No|        No|     7|         Yes|              No|            DSL|           Yes|          No|              No|         No|         No|             No|Month-to-month|             Yes|    Electronic check|          48.2|      340.35|   No|          1.0|                 0.0|                   1.0|                  1.0|                0.0|                    0.0|               0.0|               0.0|                   0.0|            0.0|                 0.0|    (1,[],[])|      (2,[0],[1.0])|        (2,[1],[1.0])|       (2,[1],[1.0])|     (2,[0],[1.0])|         (2,[0],[1.0])|    (2,[0],[1.0])|    (2,[0],[1.0])|        (2,[0],[1.0])| (2,[0],[1.0])|      (3,[0],[1.0])|\n",
      "|0016-QLJIS|Female|            0|    Yes|       Yes|    65|         Yes|             Yes|            DSL|           Yes|         Yes|             Yes|        Yes|        Yes|            Yes|      Two year|             Yes|        Mailed check|         90.45|      5957.9|   No|          1.0|                 1.0|                   1.0|                  1.0|                1.0|                    1.0|               1.0|               1.0|                   1.0|            1.0|                 1.0|    (1,[],[])|      (2,[1],[1.0])|        (2,[1],[1.0])|       (2,[1],[1.0])|     (2,[1],[1.0])|         (2,[1],[1.0])|    (2,[1],[1.0])|    (2,[1],[1.0])|        (2,[1],[1.0])| (2,[1],[1.0])|      (3,[1],[1.0])|\n",
      "|0017-DINOC|  Male|            0|     No|        No|    54|          No|No phone service|            DSL|           Yes|          No|              No|        Yes|        Yes|             No|      Two year|              No|Credit card (auto...|          45.2|     2460.55|   No|          0.0|                 2.0|                   1.0|                  1.0|                0.0|                    0.0|               1.0|               1.0|                   0.0|            1.0|                 3.0|(1,[0],[1.0])|          (2,[],[])|        (2,[1],[1.0])|       (2,[1],[1.0])|     (2,[0],[1.0])|         (2,[0],[1.0])|    (2,[1],[1.0])|    (2,[1],[1.0])|        (2,[0],[1.0])| (2,[1],[1.0])|          (3,[],[])|\n",
      "|0017-IUDMW|Female|            0|    Yes|       Yes|    72|         Yes|             Yes|    Fiber optic|           Yes|         Yes|             Yes|        Yes|        Yes|            Yes|      Two year|             Yes|Credit card (auto...|         116.8|     8456.75|   No|          1.0|                 1.0|                   0.0|                  1.0|                1.0|                    1.0|               1.0|               1.0|                   1.0|            1.0|                 3.0|    (1,[],[])|      (2,[1],[1.0])|        (2,[0],[1.0])|       (2,[1],[1.0])|     (2,[1],[1.0])|         (2,[1],[1.0])|    (2,[1],[1.0])|    (2,[1],[1.0])|        (2,[1],[1.0])| (2,[1],[1.0])|          (3,[],[])|\n",
      "|0018-NYROU|Female|            0|    Yes|        No|     5|         Yes|              No|    Fiber optic|            No|          No|              No|         No|         No|             No|Month-to-month|             Yes|    Electronic check|         68.95|       351.5|   No|          1.0|                 0.0|                   0.0|                  0.0|                0.0|                    0.0|               0.0|               0.0|                   0.0|            0.0|                 0.0|    (1,[],[])|      (2,[0],[1.0])|        (2,[0],[1.0])|       (2,[0],[1.0])|     (2,[0],[1.0])|         (2,[0],[1.0])|    (2,[0],[1.0])|    (2,[0],[1.0])|        (2,[0],[1.0])| (2,[0],[1.0])|      (3,[0],[1.0])|\n",
      "|0019-EFAEP|Female|            0|     No|        No|    72|         Yes|             Yes|    Fiber optic|           Yes|         Yes|             Yes|         No|        Yes|             No|      Two year|             Yes|Bank transfer (au...|         101.3|     7261.25|   No|          1.0|                 1.0|                   0.0|                  1.0|                1.0|                    1.0|               0.0|               1.0|                   0.0|            1.0|                 2.0|    (1,[],[])|      (2,[1],[1.0])|        (2,[0],[1.0])|       (2,[1],[1.0])|     (2,[1],[1.0])|         (2,[1],[1.0])|    (2,[0],[1.0])|    (2,[1],[1.0])|        (2,[0],[1.0])| (2,[1],[1.0])|      (3,[2],[1.0])|\n",
      "|0019-GFNTW|Female|            0|     No|        No|    56|          No|No phone service|            DSL|           Yes|         Yes|             Yes|        Yes|         No|             No|      Two year|              No|Bank transfer (au...|         45.05|      2560.1|   No|          1.0|                 2.0|                   1.0|                  1.0|                1.0|                    1.0|               1.0|               0.0|                   0.0|            1.0|                 2.0|    (1,[],[])|          (2,[],[])|        (2,[1],[1.0])|       (2,[1],[1.0])|     (2,[1],[1.0])|         (2,[1],[1.0])|    (2,[1],[1.0])|    (2,[0],[1.0])|        (2,[0],[1.0])| (2,[1],[1.0])|      (3,[2],[1.0])|\n",
      "|0020-INWCK|Female|            0|    Yes|       Yes|    71|         Yes|             Yes|    Fiber optic|            No|         Yes|             Yes|         No|         No|            Yes|      Two year|             Yes|Credit card (auto...|         95.75|      6849.4|   No|          1.0|                 1.0|                   0.0|                  0.0|                1.0|                    1.0|               0.0|               0.0|                   1.0|            1.0|                 3.0|    (1,[],[])|      (2,[1],[1.0])|        (2,[0],[1.0])|       (2,[0],[1.0])|     (2,[1],[1.0])|         (2,[1],[1.0])|    (2,[0],[1.0])|    (2,[0],[1.0])|        (2,[1],[1.0])| (2,[1],[1.0])|          (3,[],[])|\n",
      "|0020-JDNXP|Female|            0|    Yes|       Yes|    34|          No|No phone service|            DSL|           Yes|          No|             Yes|        Yes|        Yes|            Yes|      One year|              No|        Mailed check|         61.25|      1993.2|   No|          1.0|                 2.0|                   1.0|                  1.0|                0.0|                    1.0|               1.0|               1.0|                   1.0|            2.0|                 1.0|    (1,[],[])|          (2,[],[])|        (2,[1],[1.0])|       (2,[1],[1.0])|     (2,[0],[1.0])|         (2,[1],[1.0])|    (2,[1],[1.0])|    (2,[1],[1.0])|        (2,[1],[1.0])|     (2,[],[])|      (3,[1],[1.0])|\n",
      "|0021-IKXGC|Female|            1|     No|        No|     1|         Yes|             Yes|    Fiber optic|            No|          No|              No|         No|         No|             No|Month-to-month|             Yes|    Electronic check|          72.1|        72.1|   No|          1.0|                 1.0|                   0.0|                  0.0|                0.0|                    0.0|               0.0|               0.0|                   0.0|            0.0|                 0.0|    (1,[],[])|      (2,[1],[1.0])|        (2,[0],[1.0])|       (2,[0],[1.0])|     (2,[0],[1.0])|         (2,[0],[1.0])|    (2,[0],[1.0])|    (2,[0],[1.0])|        (2,[0],[1.0])| (2,[0],[1.0])|      (3,[0],[1.0])|\n",
      "|0022-TCJCI|  Male|            1|     No|        No|    45|         Yes|              No|            DSL|           Yes|          No|             Yes|         No|         No|            Yes|      One year|              No|Credit card (auto...|          62.7|      2791.5|  Yes|          0.0|                 0.0|                   1.0|                  1.0|                0.0|                    1.0|               0.0|               0.0|                   1.0|            2.0|                 3.0|(1,[0],[1.0])|      (2,[0],[1.0])|        (2,[1],[1.0])|       (2,[1],[1.0])|     (2,[0],[1.0])|         (2,[1],[1.0])|    (2,[0],[1.0])|    (2,[0],[1.0])|        (2,[1],[1.0])|     (2,[],[])|          (3,[],[])|\n",
      "|0023-HGHWL|  Male|            1|     No|        No|     1|          No|No phone service|            DSL|            No|          No|              No|         No|         No|             No|Month-to-month|             Yes|    Electronic check|          25.1|        25.1|  Yes|          0.0|                 2.0|                   1.0|                  0.0|                0.0|                    0.0|               0.0|               0.0|                   0.0|            0.0|                 0.0|(1,[0],[1.0])|          (2,[],[])|        (2,[1],[1.0])|       (2,[0],[1.0])|     (2,[0],[1.0])|         (2,[0],[1.0])|    (2,[0],[1.0])|    (2,[0],[1.0])|        (2,[0],[1.0])| (2,[0],[1.0])|      (3,[0],[1.0])|\n",
      "+----------+------+-------------+-------+----------+------+------------+----------------+---------------+--------------+------------+----------------+-----------+-----------+---------------+--------------+----------------+--------------------+--------------+------------+-----+-------------+--------------------+----------------------+---------------------+-------------------+-----------------------+------------------+------------------+----------------------+---------------+--------------------+-------------+-------------------+---------------------+--------------------+------------------+----------------------+-----------------+-----------------+---------------------+--------------+-------------------+\n",
      "only showing top 20 rows\n",
      "\n"
     ]
    }
   ],
   "source": [
    "# setup onehotencoder\n",
    "ohe = OneHotEncoder(\n",
    "    inputCols=[\n",
    "        \"GenderIndexed\",\n",
    "        \"MultipleLinesIndexed\",\n",
    "        \"InternetServiceIndexed\",\n",
    "        \"OnlineSecurityIndexed\",\n",
    "        \"OnlineBackupIndexed\",\n",
    "        \"DeviceProtectionIndexed\",\n",
    "        \"TechSupportIndexed\",\n",
    "        \"StreamingTVIndexed\",\n",
    "        \"StreamingMoviesIndexed\",\n",
    "        \"ContractIndexed\",\n",
    "        \"PaymentMethodIndexed\",\n",
    "    ],\n",
    "    outputCols=[\n",
    "        \"GenderVector\",\n",
    "        \"MultipleLinesVector\",\n",
    "        \"InternetServiceVector\",\n",
    "        \"OnlineSecurityVector\",\n",
    "        \"OnlineBackupVector\",\n",
    "        \"DeviceProtectionVector\",\n",
    "        \"TechSupportVector\",\n",
    "        \"StreamingTVVector\",\n",
    "        \"StreamingMoviesVector\",\n",
    "        \"ContractVector\",\n",
    "        \"PaymentMethodVector\",\n",
    "    ],\n",
    ")\n",
    "ohe_model = ohe.fit(indexed_df)\n",
    "\n",
    "# encode\n",
    "encoded_df = ohe_model.transform(indexed_df)\n",
    "encoded_df.show()\n",
    "\n",
    "df = encoded_df\n",
    "\n"
   ]
  },
  {
   "cell_type": "markdown",
   "metadata": {},
   "source": [
    "### Reformat values"
   ]
  },
  {
   "cell_type": "code",
   "execution_count": 18,
   "metadata": {},
   "outputs": [
    {
     "name": "stdout",
     "output_type": "stream",
     "text": [
      "+----------+------+-------------+-------+----------+------+------------+----------------+---------------+--------------+------------+----------------+-----------+-----------+---------------+--------------+----------------+--------------------+--------------+------------+-----+-------------+--------------------+----------------------+---------------------+-------------------+-----------------------+------------------+------------------+----------------------+---------------+--------------------+-------------+-------------------+---------------------+--------------------+------------------+----------------------+-----------------+-----------------+---------------------+--------------+-------------------+\n",
      "|CustomerID|Gender|SeniorCitizen|Partner|Dependents|Tenure|PhoneService|   MultipleLines|InternetService|OnlineSecurity|OnlineBackup|DeviceProtection|TechSupport|StreamingTV|StreamingMovies|      Contract|PaperlessBilling|       PaymentMethod|MonthlyCharges|TotalCharges|Churn|GenderIndexed|MultipleLinesIndexed|InternetServiceIndexed|OnlineSecurityIndexed|OnlineBackupIndexed|DeviceProtectionIndexed|TechSupportIndexed|StreamingTVIndexed|StreamingMoviesIndexed|ContractIndexed|PaymentMethodIndexed| GenderVector|MultipleLinesVector|InternetServiceVector|OnlineSecurityVector|OnlineBackupVector|DeviceProtectionVector|TechSupportVector|StreamingTVVector|StreamingMoviesVector|ContractVector|PaymentMethodVector|\n",
      "+----------+------+-------------+-------+----------+------+------------+----------------+---------------+--------------+------------+----------------+-----------+-----------+---------------+--------------+----------------+--------------------+--------------+------------+-----+-------------+--------------------+----------------------+---------------------+-------------------+-----------------------+------------------+------------------+----------------------+---------------+--------------------+-------------+-------------------+---------------------+--------------------+------------------+----------------------+-----------------+-----------------+---------------------+--------------+-------------------+\n",
      "|0002-ORFBO|Female|        false|   true|      true|     9|        true|              No|            DSL|            No|         Yes|              No|        Yes|        Yes|             No|      One year|            true|        Mailed check|          65.6|       593.3|false|          1.0|                 0.0|                   1.0|                  0.0|                1.0|                    0.0|               1.0|               1.0|                   0.0|            2.0|                 1.0|    (1,[],[])|      (2,[0],[1.0])|        (2,[1],[1.0])|       (2,[0],[1.0])|     (2,[1],[1.0])|         (2,[0],[1.0])|    (2,[1],[1.0])|    (2,[1],[1.0])|        (2,[0],[1.0])|     (2,[],[])|      (3,[1],[1.0])|\n",
      "|0003-MKNFE|  Male|        false|  false|     false|     9|        true|             Yes|            DSL|            No|          No|              No|         No|         No|            Yes|Month-to-month|           false|        Mailed check|          59.9|       542.4|false|          0.0|                 1.0|                   1.0|                  0.0|                0.0|                    0.0|               0.0|               0.0|                   1.0|            0.0|                 1.0|(1,[0],[1.0])|      (2,[1],[1.0])|        (2,[1],[1.0])|       (2,[0],[1.0])|     (2,[0],[1.0])|         (2,[0],[1.0])|    (2,[0],[1.0])|    (2,[0],[1.0])|        (2,[1],[1.0])| (2,[0],[1.0])|      (3,[1],[1.0])|\n",
      "|0004-TLHLJ|  Male|        false|  false|     false|     4|        true|              No|    Fiber optic|            No|          No|             Yes|         No|         No|             No|Month-to-month|            true|    Electronic check|          73.9|      280.85| true|          0.0|                 0.0|                   0.0|                  0.0|                0.0|                    1.0|               0.0|               0.0|                   0.0|            0.0|                 0.0|(1,[0],[1.0])|      (2,[0],[1.0])|        (2,[0],[1.0])|       (2,[0],[1.0])|     (2,[0],[1.0])|         (2,[1],[1.0])|    (2,[0],[1.0])|    (2,[0],[1.0])|        (2,[0],[1.0])| (2,[0],[1.0])|      (3,[0],[1.0])|\n",
      "|0011-IGKFF|  Male|         true|   true|     false|    13|        true|              No|    Fiber optic|            No|         Yes|             Yes|         No|        Yes|            Yes|Month-to-month|            true|    Electronic check|          98.0|     1237.85| true|          0.0|                 0.0|                   0.0|                  0.0|                1.0|                    1.0|               0.0|               1.0|                   1.0|            0.0|                 0.0|(1,[0],[1.0])|      (2,[0],[1.0])|        (2,[0],[1.0])|       (2,[0],[1.0])|     (2,[1],[1.0])|         (2,[1],[1.0])|    (2,[0],[1.0])|    (2,[1],[1.0])|        (2,[1],[1.0])| (2,[0],[1.0])|      (3,[0],[1.0])|\n",
      "|0013-EXCHZ|Female|         true|   true|     false|     3|        true|              No|    Fiber optic|            No|          No|              No|        Yes|        Yes|             No|Month-to-month|            true|        Mailed check|          83.9|       267.4| true|          1.0|                 0.0|                   0.0|                  0.0|                0.0|                    0.0|               1.0|               1.0|                   0.0|            0.0|                 1.0|    (1,[],[])|      (2,[0],[1.0])|        (2,[0],[1.0])|       (2,[0],[1.0])|     (2,[0],[1.0])|         (2,[0],[1.0])|    (2,[1],[1.0])|    (2,[1],[1.0])|        (2,[0],[1.0])| (2,[0],[1.0])|      (3,[1],[1.0])|\n",
      "|0013-MHZWF|Female|        false|  false|      true|     9|        true|              No|            DSL|            No|          No|              No|        Yes|        Yes|            Yes|Month-to-month|            true|Credit card (auto...|          69.4|      571.45|false|          1.0|                 0.0|                   1.0|                  0.0|                0.0|                    0.0|               1.0|               1.0|                   1.0|            0.0|                 3.0|    (1,[],[])|      (2,[0],[1.0])|        (2,[1],[1.0])|       (2,[0],[1.0])|     (2,[0],[1.0])|         (2,[0],[1.0])|    (2,[1],[1.0])|    (2,[1],[1.0])|        (2,[1],[1.0])| (2,[0],[1.0])|          (3,[],[])|\n",
      "|0013-SMEOE|Female|         true|   true|     false|    71|        true|              No|    Fiber optic|           Yes|         Yes|             Yes|        Yes|        Yes|            Yes|      Two year|            true|Bank transfer (au...|         109.7|     7904.25|false|          1.0|                 0.0|                   0.0|                  1.0|                1.0|                    1.0|               1.0|               1.0|                   1.0|            1.0|                 2.0|    (1,[],[])|      (2,[0],[1.0])|        (2,[0],[1.0])|       (2,[1],[1.0])|     (2,[1],[1.0])|         (2,[1],[1.0])|    (2,[1],[1.0])|    (2,[1],[1.0])|        (2,[1],[1.0])| (2,[1],[1.0])|      (3,[2],[1.0])|\n",
      "|0014-BMAQU|  Male|        false|   true|     false|    63|        true|             Yes|    Fiber optic|           Yes|          No|              No|        Yes|         No|             No|      Two year|            true|Credit card (auto...|         84.65|      5377.8|false|          0.0|                 1.0|                   0.0|                  1.0|                0.0|                    0.0|               1.0|               0.0|                   0.0|            1.0|                 3.0|(1,[0],[1.0])|      (2,[1],[1.0])|        (2,[0],[1.0])|       (2,[1],[1.0])|     (2,[0],[1.0])|         (2,[0],[1.0])|    (2,[1],[1.0])|    (2,[0],[1.0])|        (2,[0],[1.0])| (2,[1],[1.0])|          (3,[],[])|\n",
      "|0015-UOCOJ|Female|         true|  false|     false|     7|        true|              No|            DSL|           Yes|          No|              No|         No|         No|             No|Month-to-month|            true|    Electronic check|          48.2|      340.35|false|          1.0|                 0.0|                   1.0|                  1.0|                0.0|                    0.0|               0.0|               0.0|                   0.0|            0.0|                 0.0|    (1,[],[])|      (2,[0],[1.0])|        (2,[1],[1.0])|       (2,[1],[1.0])|     (2,[0],[1.0])|         (2,[0],[1.0])|    (2,[0],[1.0])|    (2,[0],[1.0])|        (2,[0],[1.0])| (2,[0],[1.0])|      (3,[0],[1.0])|\n",
      "|0016-QLJIS|Female|        false|   true|      true|    65|        true|             Yes|            DSL|           Yes|         Yes|             Yes|        Yes|        Yes|            Yes|      Two year|            true|        Mailed check|         90.45|      5957.9|false|          1.0|                 1.0|                   1.0|                  1.0|                1.0|                    1.0|               1.0|               1.0|                   1.0|            1.0|                 1.0|    (1,[],[])|      (2,[1],[1.0])|        (2,[1],[1.0])|       (2,[1],[1.0])|     (2,[1],[1.0])|         (2,[1],[1.0])|    (2,[1],[1.0])|    (2,[1],[1.0])|        (2,[1],[1.0])| (2,[1],[1.0])|      (3,[1],[1.0])|\n",
      "|0017-DINOC|  Male|        false|  false|     false|    54|       false|No phone service|            DSL|           Yes|          No|              No|        Yes|        Yes|             No|      Two year|           false|Credit card (auto...|          45.2|     2460.55|false|          0.0|                 2.0|                   1.0|                  1.0|                0.0|                    0.0|               1.0|               1.0|                   0.0|            1.0|                 3.0|(1,[0],[1.0])|          (2,[],[])|        (2,[1],[1.0])|       (2,[1],[1.0])|     (2,[0],[1.0])|         (2,[0],[1.0])|    (2,[1],[1.0])|    (2,[1],[1.0])|        (2,[0],[1.0])| (2,[1],[1.0])|          (3,[],[])|\n",
      "|0017-IUDMW|Female|        false|   true|      true|    72|        true|             Yes|    Fiber optic|           Yes|         Yes|             Yes|        Yes|        Yes|            Yes|      Two year|            true|Credit card (auto...|         116.8|     8456.75|false|          1.0|                 1.0|                   0.0|                  1.0|                1.0|                    1.0|               1.0|               1.0|                   1.0|            1.0|                 3.0|    (1,[],[])|      (2,[1],[1.0])|        (2,[0],[1.0])|       (2,[1],[1.0])|     (2,[1],[1.0])|         (2,[1],[1.0])|    (2,[1],[1.0])|    (2,[1],[1.0])|        (2,[1],[1.0])| (2,[1],[1.0])|          (3,[],[])|\n",
      "|0018-NYROU|Female|        false|   true|     false|     5|        true|              No|    Fiber optic|            No|          No|              No|         No|         No|             No|Month-to-month|            true|    Electronic check|         68.95|       351.5|false|          1.0|                 0.0|                   0.0|                  0.0|                0.0|                    0.0|               0.0|               0.0|                   0.0|            0.0|                 0.0|    (1,[],[])|      (2,[0],[1.0])|        (2,[0],[1.0])|       (2,[0],[1.0])|     (2,[0],[1.0])|         (2,[0],[1.0])|    (2,[0],[1.0])|    (2,[0],[1.0])|        (2,[0],[1.0])| (2,[0],[1.0])|      (3,[0],[1.0])|\n",
      "|0019-EFAEP|Female|        false|  false|     false|    72|        true|             Yes|    Fiber optic|           Yes|         Yes|             Yes|         No|        Yes|             No|      Two year|            true|Bank transfer (au...|         101.3|     7261.25|false|          1.0|                 1.0|                   0.0|                  1.0|                1.0|                    1.0|               0.0|               1.0|                   0.0|            1.0|                 2.0|    (1,[],[])|      (2,[1],[1.0])|        (2,[0],[1.0])|       (2,[1],[1.0])|     (2,[1],[1.0])|         (2,[1],[1.0])|    (2,[0],[1.0])|    (2,[1],[1.0])|        (2,[0],[1.0])| (2,[1],[1.0])|      (3,[2],[1.0])|\n",
      "|0019-GFNTW|Female|        false|  false|     false|    56|       false|No phone service|            DSL|           Yes|         Yes|             Yes|        Yes|         No|             No|      Two year|           false|Bank transfer (au...|         45.05|      2560.1|false|          1.0|                 2.0|                   1.0|                  1.0|                1.0|                    1.0|               1.0|               0.0|                   0.0|            1.0|                 2.0|    (1,[],[])|          (2,[],[])|        (2,[1],[1.0])|       (2,[1],[1.0])|     (2,[1],[1.0])|         (2,[1],[1.0])|    (2,[1],[1.0])|    (2,[0],[1.0])|        (2,[0],[1.0])| (2,[1],[1.0])|      (3,[2],[1.0])|\n",
      "|0020-INWCK|Female|        false|   true|      true|    71|        true|             Yes|    Fiber optic|            No|         Yes|             Yes|         No|         No|            Yes|      Two year|            true|Credit card (auto...|         95.75|      6849.4|false|          1.0|                 1.0|                   0.0|                  0.0|                1.0|                    1.0|               0.0|               0.0|                   1.0|            1.0|                 3.0|    (1,[],[])|      (2,[1],[1.0])|        (2,[0],[1.0])|       (2,[0],[1.0])|     (2,[1],[1.0])|         (2,[1],[1.0])|    (2,[0],[1.0])|    (2,[0],[1.0])|        (2,[1],[1.0])| (2,[1],[1.0])|          (3,[],[])|\n",
      "|0020-JDNXP|Female|        false|   true|      true|    34|       false|No phone service|            DSL|           Yes|          No|             Yes|        Yes|        Yes|            Yes|      One year|           false|        Mailed check|         61.25|      1993.2|false|          1.0|                 2.0|                   1.0|                  1.0|                0.0|                    1.0|               1.0|               1.0|                   1.0|            2.0|                 1.0|    (1,[],[])|          (2,[],[])|        (2,[1],[1.0])|       (2,[1],[1.0])|     (2,[0],[1.0])|         (2,[1],[1.0])|    (2,[1],[1.0])|    (2,[1],[1.0])|        (2,[1],[1.0])|     (2,[],[])|      (3,[1],[1.0])|\n",
      "|0021-IKXGC|Female|         true|  false|     false|     1|        true|             Yes|    Fiber optic|            No|          No|              No|         No|         No|             No|Month-to-month|            true|    Electronic check|          72.1|        72.1|false|          1.0|                 1.0|                   0.0|                  0.0|                0.0|                    0.0|               0.0|               0.0|                   0.0|            0.0|                 0.0|    (1,[],[])|      (2,[1],[1.0])|        (2,[0],[1.0])|       (2,[0],[1.0])|     (2,[0],[1.0])|         (2,[0],[1.0])|    (2,[0],[1.0])|    (2,[0],[1.0])|        (2,[0],[1.0])| (2,[0],[1.0])|      (3,[0],[1.0])|\n",
      "|0022-TCJCI|  Male|         true|  false|     false|    45|        true|              No|            DSL|           Yes|          No|             Yes|         No|         No|            Yes|      One year|           false|Credit card (auto...|          62.7|      2791.5| true|          0.0|                 0.0|                   1.0|                  1.0|                0.0|                    1.0|               0.0|               0.0|                   1.0|            2.0|                 3.0|(1,[0],[1.0])|      (2,[0],[1.0])|        (2,[1],[1.0])|       (2,[1],[1.0])|     (2,[0],[1.0])|         (2,[1],[1.0])|    (2,[0],[1.0])|    (2,[0],[1.0])|        (2,[1],[1.0])|     (2,[],[])|          (3,[],[])|\n",
      "|0023-HGHWL|  Male|         true|  false|     false|     1|       false|No phone service|            DSL|            No|          No|              No|         No|         No|             No|Month-to-month|            true|    Electronic check|          25.1|        25.1| true|          0.0|                 2.0|                   1.0|                  0.0|                0.0|                    0.0|               0.0|               0.0|                   0.0|            0.0|                 0.0|(1,[0],[1.0])|          (2,[],[])|        (2,[1],[1.0])|       (2,[0],[1.0])|     (2,[0],[1.0])|         (2,[0],[1.0])|    (2,[0],[1.0])|    (2,[0],[1.0])|        (2,[0],[1.0])| (2,[0],[1.0])|      (3,[0],[1.0])|\n",
      "+----------+------+-------------+-------+----------+------+------------+----------------+---------------+--------------+------------+----------------+-----------+-----------+---------------+--------------+----------------+--------------------+--------------+------------+-----+-------------+--------------------+----------------------+---------------------+-------------------+-----------------------+------------------+------------------+----------------------+---------------+--------------------+-------------+-------------------+---------------------+--------------------+------------------+----------------------+-----------------+-----------------+---------------------+--------------+-------------------+\n",
      "only showing top 20 rows\n",
      "\n"
     ]
    }
   ],
   "source": [
    "df = df.withColumns({\n",
    "    'SeniorCitizen': when(col('SeniorCitizen') == 1, True).otherwise(False),\n",
    "    'Partner': when(col('Partner') == 'Yes', True).otherwise(False),\n",
    "    'Dependents': when(col('Dependents') == 'Yes', True).otherwise(False),\n",
    "    'PhoneService': when(col('PhoneService') == 'Yes', True).otherwise(False),\n",
    "    'PaperlessBilling': when(col('PaperlessBilling') == 'Yes', True).otherwise(False),\n",
    "    'Churn': when(col('Churn') == 'Yes', True).otherwise(False),\n",
    "})\n",
    "df.show()"
   ]
  },
  {
   "cell_type": "markdown",
   "metadata": {},
   "source": [
    "## Export"
   ]
  },
  {
   "cell_type": "code",
   "execution_count": null,
   "metadata": {},
   "outputs": [],
   "source": [
    "# export parquet\n",
    "df.write.mode('overwrite').parquet('preprocessed.parquet')"
   ]
  }
 ],
 "metadata": {
  "kernelspec": {
   "display_name": "Python 3",
   "language": "python",
   "name": "python3"
  },
  "language_info": {
   "codemirror_mode": {
    "name": "ipython",
    "version": 3
   },
   "file_extension": ".py",
   "mimetype": "text/x-python",
   "name": "python",
   "nbconvert_exporter": "python",
   "pygments_lexer": "ipython3",
   "version": "3.12.3"
  }
 },
 "nbformat": 4,
 "nbformat_minor": 2
}
